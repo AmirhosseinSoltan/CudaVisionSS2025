{
 "cells": [
  {
   "cell_type": "markdown",
   "metadata": {},
   "source": [
    " - Compare your CNN based models with a DINOv2-based model used as a fixed feature extractor. Is DINOv2 better?\n",
    " - Investigate your model. In what types of images does it fail? Why do you think so?\n",
    " - Evaluate your model on a few images from completely different robots from those seen during training? How does it perform?"
   ]
  },
  {
   "cell_type": "markdown",
   "metadata": {},
   "source": []
  }
 ],
 "metadata": {
  "language_info": {
   "name": "python"
  }
 },
 "nbformat": 4,
 "nbformat_minor": 2
}
