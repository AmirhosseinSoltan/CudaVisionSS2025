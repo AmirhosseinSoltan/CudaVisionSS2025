{
 "cells": [
  {
   "cell_type": "markdown",
   "metadata": {},
   "source": [
    " - Fine-tune ResNet, ConvNext and EfficientNet for your augmented dataset for human/robot classification and compare them.\n",
    " - Compare the following on a model of your choice: Fine-Tuned model, model as fixed feature extractor, and model with a Combined Approach"
   ]
  }
 ],
 "metadata": {
  "language_info": {
   "name": "python"
  }
 },
 "nbformat": 4,
 "nbformat_minor": 2
}
