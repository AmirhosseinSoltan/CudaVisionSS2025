{
 "cells": [
  {
   "cell_type": "markdown",
   "metadata": {},
   "source": [
    "### Team name: \n",
    "\n",
    "\n",
    "<img src=\"../imgs/ChatGPT Image May 1, 2025, 06_23_42 PM.png\" width=\"40%\">\n",
    "\n",
    "\n",
    "Image created by Dall-E 3 open-AI with Prompt:\n",
    "A logo for a deep learning university team called \"Persian CUDA\", featuring a fierce stylized Persian cat at the top, three Persian male students in futuristic uniforms below, and the text \"Persian CUDA - Deep Learning Team\" in bold lettering. The design should have a shield shape, integrate the NVIDIA logo subtly, and use a dark teal and beige color scheme. The style should be modern, sleek, and slightly tech-inspired, with clean lines and geometric balance\n",
    "\n",
    "### Members:\n",
    "1. Aidin Masroor\n",
    "2. Moein Taherkhani\n",
    "3. Amirhossein Soltani"
   ]
  },
  {
   "cell_type": "code",
   "execution_count": 1,
   "metadata": {},
   "outputs": [],
   "source": [
    "import timm\n",
    "from timm.models.vision_transformer import _create_vision_transformer, VisionTransformer\n",
    "from functools import partial\n",
    "import os\n",
    "from tqdm import tqdm\n",
    "import numpy as np\n",
    "import matplotlib.pyplot as plt\n",
    "import torch\n",
    "import torch.nn as nn\n",
    "import torchvision\n",
    "from torchvision import datasets, models, transforms\n",
    "from torch.utils.tensorboard import SummaryWriter\n",
    "from training_engins import *\n"
   ]
  },
  {
   "cell_type": "code",
   "execution_count": null,
   "metadata": {},
   "outputs": [],
   "source": [
    "# get model specific transforms (normalization, resize)\n",
    "data_config = timm.data.resolve_model_data_config(model)\n",
    "transforms = timm.data.create_transform(**data_config, is_training=False)"
   ]
  }
 ],
 "metadata": {
  "kernelspec": {
   "display_name": "Python 3",
   "language": "python",
   "name": "python3"
  },
  "language_info": {
   "codemirror_mode": {
    "name": "ipython",
    "version": 3
   },
   "file_extension": ".py",
   "mimetype": "text/x-python",
   "name": "python",
   "nbconvert_exporter": "python",
   "pygments_lexer": "ipython3",
   "version": "3.11.9"
  }
 },
 "nbformat": 4,
 "nbformat_minor": 2
}
