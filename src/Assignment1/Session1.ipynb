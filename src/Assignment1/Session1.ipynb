{
 "cells": [
  {
   "cell_type": "markdown",
   "id": "0c29d0a9-7cc4-4a0a-8332-b9ce8c76818b",
   "metadata": {},
   "source": [
    "# Lab Vision Sytems: Session 1\n",
    "\n",
    "## Organization\n",
    "You can download the course materials from the course website\n",
    "\n",
    " - **Username**: CudaLabSS25\n",
    " - **Password**: SegmentAnything"
   ]
  },
  {
   "cell_type": "markdown",
   "id": "43d8d4ac-8df0-4514-b2e5-13bb9e914432",
   "metadata": {
    "slideshow": {
     "slide_type": "slide"
    }
   },
   "source": [
    "# Today: \n",
    "\n",
    "### 1- Connecting and Working on Remote Machines\n",
    "### 2- Pytorch Basics\n",
    "### 3- Training and Optimization Tips\n",
    "### 4- Training and Evaluating MLPs & CNNs\n",
    "##### 4.1 Dataset and Data Loading\n",
    "##### 4.2 Implementing, Training and Evaluating an MLP\n",
    "##### 4.3 Implementing, Training and Evaluating an CNN"
   ]
  },
  {
   "cell_type": "markdown",
   "id": "8ab1965d-1bce-4956-b457-0b3d7974af52",
   "metadata": {},
   "source": [
    "---"
   ]
  },
  {
   "cell_type": "markdown",
   "id": "9915338a-d3c4-4af6-95a8-9bbd7735430e",
   "metadata": {},
   "source": [
    "# 1. Connecting to a Remote Machine and Jupyter Basics"
   ]
  },
  {
   "cell_type": "markdown",
   "id": "835145a5-b0f1-4196-9823-31165abde8ad",
   "metadata": {},
   "source": [
    "### Connecting to a Remote Machine"
   ]
  },
  {
   "cell_type": "markdown",
   "id": "c6b543fc-6c82-4abb-9bd8-276505f2f459",
   "metadata": {},
   "source": [
    "cuda3, cuda4, cuda6, cuda7, cuda9, cuda10, cuda11, cuda12"
   ]
  },
  {
   "cell_type": "markdown",
   "id": "393721aa-af25-4173-afa8-a22acd7d0067",
   "metadata": {},
   "source": [
    "### Jupyter Cheatsheet"
   ]
  },
  {
   "cell_type": "markdown",
   "id": "036608db-aa42-4859-9b23-79404070e4a6",
   "metadata": {
    "tags": []
   },
   "source": [
    "### Shortcuts\n",
    "\n",
    " - 'a': Add new cell\n",
    " - 'dd': Delete cell ('d' twice)\n",
    " - 'z': Undo last operation\n",
    " - 'c': Copy cell\n",
    " - 'v': Paste below\n",
    " - 'shift' + 'enter': Run current cell"
   ]
  },
  {
   "cell_type": "code",
   "execution_count": 3,
   "id": "a38c32ca-619b-46a3-9c13-d52945372966",
   "metadata": {},
   "outputs": [
    {
     "name": "stdout",
     "output_type": "stream",
     "text": [
      "data  imgs  models  Session1.ipynb\n"
     ]
    }
   ],
   "source": [
    "!ls"
   ]
  },
  {
   "cell_type": "code",
   "execution_count": 1,
   "id": "93387b21-19ac-4a1b-ad8b-d69f9c0aa97b",
   "metadata": {},
   "outputs": [
    {
     "name": "stdout",
     "output_type": "stream",
     "text": [
      "zsh:1: command not found: nvidia-smi\n"
     ]
    }
   ],
   "source": [
    "!nvidia-smi"
   ]
  },
  {
   "cell_type": "markdown",
   "id": "7e98dc59-2882-48dd-b55d-6e62b7ce5d1a",
   "metadata": {
    "tags": []
   },
   "source": [
    "### Debugging"
   ]
  },
  {
   "cell_type": "code",
   "execution_count": 5,
   "id": "f97cd5c6-f507-4336-b6eb-8e89b679999d",
   "metadata": {},
   "outputs": [
    {
     "data": {
      "text/plain": [
       "5.0"
      ]
     },
     "execution_count": 5,
     "metadata": {},
     "output_type": "execute_result"
    }
   ],
   "source": [
    "def divide_numbers(n1, n2):\n",
    "    \"\"\" Dividing two numbers :) \"\"\"\n",
    "    answer = n1 / n2\n",
    "    return answer\n",
    "\n",
    "divide_numbers(10, 2)"
   ]
  },
  {
   "cell_type": "code",
   "execution_count": 6,
   "id": "71e245cd-f7f4-4f21-9660-2cdf869713a1",
   "metadata": {},
   "outputs": [
    {
     "ename": "ZeroDivisionError",
     "evalue": "division by zero",
     "output_type": "error",
     "traceback": [
      "\u001b[0;31m---------------------------------------------------------------------------\u001b[0m",
      "\u001b[0;31mZeroDivisionError\u001b[0m                         Traceback (most recent call last)",
      "Cell \u001b[0;32mIn[6], line 2\u001b[0m\n\u001b[1;32m      1\u001b[0m \u001b[38;5;66;03m# Debug magic: %debug\u001b[39;00m\n\u001b[0;32m----> 2\u001b[0m var \u001b[38;5;241m=\u001b[39m \u001b[43mdivide_numbers\u001b[49m\u001b[43m(\u001b[49m\u001b[38;5;241;43m10\u001b[39;49m\u001b[43m,\u001b[49m\u001b[43m \u001b[49m\u001b[38;5;241;43m0\u001b[39;49m\u001b[43m)\u001b[49m\n",
      "Cell \u001b[0;32mIn[5], line 3\u001b[0m, in \u001b[0;36mdivide_numbers\u001b[0;34m(n1, n2)\u001b[0m\n\u001b[1;32m      1\u001b[0m \u001b[38;5;28;01mdef\u001b[39;00m \u001b[38;5;21mdivide_numbers\u001b[39m(n1, n2):\n\u001b[1;32m      2\u001b[0m \u001b[38;5;250m    \u001b[39m\u001b[38;5;124;03m\"\"\" Dividing two numbers :) \"\"\"\u001b[39;00m\n\u001b[0;32m----> 3\u001b[0m     answer \u001b[38;5;241m=\u001b[39m \u001b[43mn1\u001b[49m\u001b[43m \u001b[49m\u001b[38;5;241;43m/\u001b[39;49m\u001b[43m \u001b[49m\u001b[43mn2\u001b[49m\n\u001b[1;32m      4\u001b[0m     \u001b[38;5;28;01mreturn\u001b[39;00m answer\n",
      "\u001b[0;31mZeroDivisionError\u001b[0m: division by zero"
     ]
    }
   ],
   "source": [
    "# Debug magic: %debug\n",
    "var = divide_numbers(10, 0)"
   ]
  },
  {
   "cell_type": "code",
   "execution_count": 7,
   "id": "64571151-8fc1-4385-8390-fa80e8384358",
   "metadata": {},
   "outputs": [
    {
     "name": "stdout",
     "output_type": "stream",
     "text": [
      "> \u001b[0;32m/var/folders/d_/jp708lf135b9l3ffk1y090dr0000gn/T/ipykernel_64601/1695316618.py\u001b[0m(3)\u001b[0;36mdivide_numbers\u001b[0;34m()\u001b[0m\n",
      "\u001b[0;32m      1 \u001b[0;31m\u001b[0;32mdef\u001b[0m \u001b[0mdivide_numbers\u001b[0m\u001b[0;34m(\u001b[0m\u001b[0mn1\u001b[0m\u001b[0;34m,\u001b[0m \u001b[0mn2\u001b[0m\u001b[0;34m)\u001b[0m\u001b[0;34m:\u001b[0m\u001b[0;34m\u001b[0m\u001b[0;34m\u001b[0m\u001b[0m\n",
      "\u001b[0m\u001b[0;32m      2 \u001b[0;31m    \u001b[0;34m\"\"\" Dividing two numbers :) \"\"\"\u001b[0m\u001b[0;34m\u001b[0m\u001b[0;34m\u001b[0m\u001b[0m\n",
      "\u001b[0m\u001b[0;32m----> 3 \u001b[0;31m    \u001b[0manswer\u001b[0m \u001b[0;34m=\u001b[0m \u001b[0mn1\u001b[0m \u001b[0;34m/\u001b[0m \u001b[0mn2\u001b[0m\u001b[0;34m\u001b[0m\u001b[0;34m\u001b[0m\u001b[0m\n",
      "\u001b[0m\u001b[0;32m      4 \u001b[0;31m    \u001b[0;32mreturn\u001b[0m \u001b[0manswer\u001b[0m\u001b[0;34m\u001b[0m\u001b[0;34m\u001b[0m\u001b[0m\n",
      "\u001b[0m\u001b[0;32m      5 \u001b[0;31m\u001b[0;34m\u001b[0m\u001b[0m\n",
      "\u001b[0m\n",
      "*** NameError: name 'var' is not defined\n",
      "*** Newest frame\n",
      "> \u001b[0;32m/var/folders/d_/jp708lf135b9l3ffk1y090dr0000gn/T/ipykernel_64601/917852807.py\u001b[0m(2)\u001b[0;36m<module>\u001b[0;34m()\u001b[0m\n",
      "\u001b[0;32m      1 \u001b[0;31m\u001b[0;31m# Debug magic: %debug\u001b[0m\u001b[0;34m\u001b[0m\u001b[0;34m\u001b[0m\u001b[0m\n",
      "\u001b[0m\u001b[0;32m----> 2 \u001b[0;31m\u001b[0mvar\u001b[0m \u001b[0;34m=\u001b[0m \u001b[0mdivide_numbers\u001b[0m\u001b[0;34m(\u001b[0m\u001b[0;36m10\u001b[0m\u001b[0;34m,\u001b[0m \u001b[0;36m0\u001b[0m\u001b[0;34m)\u001b[0m\u001b[0;34m\u001b[0m\u001b[0;34m\u001b[0m\u001b[0m\n",
      "\u001b[0m\n",
      "*** all frames above hidden, use `skip_hidden False` to get get into those.\n",
      "*** all frames above hidden, use `skip_hidden False` to get get into those.\n",
      "*** all frames above hidden, use `skip_hidden False` to get get into those.\n",
      "*** all frames above hidden, use `skip_hidden False` to get get into those.\n"
     ]
    }
   ],
   "source": [
    "%debug"
   ]
  },
  {
   "cell_type": "markdown",
   "id": "ed46e627-b814-4082-a153-16bc3fbca2c3",
   "metadata": {},
   "source": [
    "---"
   ]
  },
  {
   "cell_type": "markdown",
   "id": "6d969d94-a7e9-4410-9553-b8297c269891",
   "metadata": {},
   "source": [
    "# 2- PyTorch Basics\n",
    " - https://pytorch.org/docs/stable/index.html\n",
    " - https://pytorch.org/vision/stable/index.html"
   ]
  },
  {
   "cell_type": "code",
   "execution_count": 1,
   "id": "8340805d-ceb9-4041-aa55-617544553200",
   "metadata": {},
   "outputs": [
    {
     "name": "stdout",
     "output_type": "stream",
     "text": [
      "2.2.2\n"
     ]
    }
   ],
   "source": [
    "import numpy as np\n",
    "import torch\n",
    "print(torch.__version__)"
   ]
  },
  {
   "cell_type": "code",
   "execution_count": 9,
   "id": "77b72f48-5088-4ea8-ac41-c44a3b3a7c43",
   "metadata": {},
   "outputs": [
    {
     "name": "stdout",
     "output_type": "stream",
     "text": [
      "tensor([[0., 0., 0., 0.],\n",
      "        [0., 0., 0., 0.],\n",
      "        [0., 0., 0., 0.]])\n",
      "torch.Size([3, 4])\n"
     ]
    }
   ],
   "source": [
    "x = torch.Tensor(3, 4)\n",
    "print(x)\n",
    "print(x.shape)"
   ]
  },
  {
   "cell_type": "code",
   "execution_count": 10,
   "id": "5a2fc780-683b-4ca0-93d5-6f6f6105378a",
   "metadata": {},
   "outputs": [
    {
     "name": "stdout",
     "output_type": "stream",
     "text": [
      "Error: 0.0\n"
     ]
    }
   ],
   "source": [
    "y = x.numpy()\n",
    "x_rec = torch.from_numpy(y)\n",
    "print(f\"Error: {(x - x_rec).norm().item()}\")"
   ]
  },
  {
   "cell_type": "markdown",
   "id": "adcd64e5-b71f-441e-a1c1-ac2a95bc4f71",
   "metadata": {
    "tags": []
   },
   "source": [
    "### Some Other Useful Basic Operations"
   ]
  },
  {
   "cell_type": "markdown",
   "id": "c7a0276d-d785-48d3-9154-8edc56808a9e",
   "metadata": {},
   "source": [
    "#### View and Reshape"
   ]
  },
  {
   "cell_type": "code",
   "execution_count": 13,
   "id": "414adc7a-f1b0-46b5-84ba-b8d42cd434d4",
   "metadata": {},
   "outputs": [
    {
     "name": "stdout",
     "output_type": "stream",
     "text": [
      "features.shape = torch.Size([4, 8, 3, 8, 8])\n"
     ]
    }
   ],
   "source": [
    "# randomly initializing feature maps\n",
    "BATCH_SIZE = 4\n",
    "SEQ_LENGTH = 8\n",
    "NUM_CHANNELS = 3\n",
    "HEIGHT = 8\n",
    "WIDTH = 8\n",
    "\n",
    "features = torch.randn(BATCH_SIZE, SEQ_LENGTH, NUM_CHANNELS, HEIGHT, WIDTH)\n",
    "print(f\"{features.shape = }\")"
   ]
  },
  {
   "cell_type": "code",
   "execution_count": 23,
   "id": "63f6f756",
   "metadata": {},
   "outputs": [
    {
     "data": {
      "text/plain": [
       "tensor([[6, 1, 7],\n",
       "        [0, 6, 5]])"
      ]
     },
     "execution_count": 23,
     "metadata": {},
     "output_type": "execute_result"
    }
   ],
   "source": [
    "torch.randint(10,(2,3))"
   ]
  },
  {
   "cell_type": "code",
   "execution_count": 37,
   "id": "dd77b800",
   "metadata": {},
   "outputs": [
    {
     "data": {
      "text/plain": [
       "6144"
      ]
     },
     "execution_count": 37,
     "metadata": {},
     "output_type": "execute_result"
    }
   ],
   "source": [
    "4*3*64*8"
   ]
  },
  {
   "cell_type": "code",
   "execution_count": 26,
   "id": "78151477",
   "metadata": {},
   "outputs": [
    {
     "data": {
      "text/plain": [
       "tensor([[0.2083, 0.4530],\n",
       "        [0.5819, 0.6420]])"
      ]
     },
     "execution_count": 26,
     "metadata": {},
     "output_type": "execute_result"
    }
   ],
   "source": [
    "torch.rand((2,2))"
   ]
  },
  {
   "cell_type": "code",
   "execution_count": 25,
   "id": "2931cb22",
   "metadata": {},
   "outputs": [
    {
     "data": {
      "text/plain": [
       "tensor([[ 2.9253, -1.0490],\n",
       "        [ 1.8757,  0.5550]])"
      ]
     },
     "execution_count": 25,
     "metadata": {},
     "output_type": "execute_result"
    }
   ],
   "source": [
    "torch.randn((2,2))"
   ]
  },
  {
   "cell_type": "code",
   "execution_count": 39,
   "id": "0c7797d6-bc04-4d2e-a3c0-36c41213cd43",
   "metadata": {},
   "outputs": [
    {
     "name": "stdout",
     "output_type": "stream",
     "text": [
      "linear_features.shape = torch.Size([32, 192])\n"
     ]
    }
   ],
   "source": [
    "linear_features = features.view(BATCH_SIZE * SEQ_LENGTH, NUM_CHANNELS * HEIGHT * WIDTH)\n",
    "print(f\"{linear_features.shape = }\")"
   ]
  },
  {
   "cell_type": "code",
   "execution_count": 40,
   "id": "83e011cb-0cf3-46b5-940d-7cbf226b5c67",
   "metadata": {},
   "outputs": [
    {
     "name": "stdout",
     "output_type": "stream",
     "text": [
      "linear_features_2.shape = torch.Size([4, 24, 64])\n"
     ]
    }
   ],
   "source": [
    "linear_features_2 = features.view(BATCH_SIZE, -1, HEIGHT * WIDTH)\n",
    "print(f\"{linear_features_2.shape = }\")"
   ]
  },
  {
   "cell_type": "code",
   "execution_count": 41,
   "id": "10a6b599-1918-450f-815e-aa94b390143a",
   "metadata": {},
   "outputs": [
    {
     "name": "stdout",
     "output_type": "stream",
     "text": [
      "recovered_features.shape = torch.Size([4, 8, 3, 8, 8])\n",
      "\n",
      " Error: 0.0\n"
     ]
    }
   ],
   "source": [
    "recovered_features = linear_features_2.view(BATCH_SIZE, SEQ_LENGTH, NUM_CHANNELS, HEIGHT, WIDTH)\n",
    "print(f\"{recovered_features.shape = }\")\n",
    "\n",
    "print(f\"\\n Error: {(recovered_features - features).pow(2).mean()}\")"
   ]
  },
  {
   "cell_type": "markdown",
   "id": "1f86899e-4966-4b01-ab56-bb3f108eff29",
   "metadata": {},
   "source": [
    "### Concatenating and Stacking"
   ]
  },
  {
   "cell_type": "code",
   "execution_count": 42,
   "id": "e8ae4b04-7f4d-4579-8d56-3d00cd95300b",
   "metadata": {},
   "outputs": [],
   "source": [
    "tensor_1 = torch.ones(1, 3)\n",
    "tensor_2 = torch.zeros(1, 3)"
   ]
  },
  {
   "cell_type": "code",
   "execution_count": 50,
   "id": "f66401e6-7433-4c22-a478-890270f3fddc",
   "metadata": {},
   "outputs": [
    {
     "name": "stdout",
     "output_type": "stream",
     "text": [
      "stacked_tensor.shape = torch.Size([1, 3, 2])\n"
     ]
    }
   ],
   "source": [
    "stacked_tensor = torch.stack([tensor_1, tensor_2], dim=-1)\n",
    "print(f\"{stacked_tensor.shape = }\")"
   ]
  },
  {
   "cell_type": "code",
   "execution_count": 68,
   "id": "a42118d2",
   "metadata": {},
   "outputs": [
    {
     "data": {
      "text/plain": [
       "torch.Size([3, 2])"
      ]
     },
     "execution_count": 68,
     "metadata": {},
     "output_type": "execute_result"
    }
   ],
   "source": [
    "stacked_tensor.squeeze(0).shape"
   ]
  },
  {
   "cell_type": "code",
   "execution_count": 64,
   "id": "6522d920",
   "metadata": {},
   "outputs": [
    {
     "data": {
      "text/plain": [
       "torch.Size([2, 4, 2])"
      ]
     },
     "execution_count": 64,
     "metadata": {},
     "output_type": "execute_result"
    }
   ],
   "source": [
    "t1 = torch.Tensor(2,4)\n",
    "t2 = torch.Tensor(2,4)\n",
    "\n",
    "stacked = torch.stack((t1, t2), dim=-1)\n",
    "stacked.shape"
   ]
  },
  {
   "cell_type": "code",
   "execution_count": 60,
   "id": "ef7d3a7f-3519-4650-99c5-ef010dd0cdca",
   "metadata": {},
   "outputs": [
    {
     "name": "stdout",
     "output_type": "stream",
     "text": [
      "concat_tensor.shape = torch.Size([1, 6])\n"
     ]
    }
   ],
   "source": [
    "concat_tensor = torch.cat([tensor_1, tensor_2], dim=-1)\n",
    "print(f\"{concat_tensor.shape = }\")"
   ]
  },
  {
   "cell_type": "code",
   "execution_count": 65,
   "id": "08b26e5a",
   "metadata": {},
   "outputs": [
    {
     "data": {
      "text/plain": [
       "torch.Size([1, 1, 6])"
      ]
     },
     "execution_count": 65,
     "metadata": {},
     "output_type": "execute_result"
    }
   ],
   "source": [
    "concat_tensor.unsqueeze(0).shape"
   ]
  },
  {
   "cell_type": "code",
   "execution_count": 74,
   "id": "f040d154",
   "metadata": {},
   "outputs": [
    {
     "data": {
      "text/plain": [
       "torch.Size([4, 2, 2])"
      ]
     },
     "execution_count": 74,
     "metadata": {},
     "output_type": "execute_result"
    }
   ],
   "source": [
    "torch.permute(stacked,(1,0,2)).shape"
   ]
  },
  {
   "cell_type": "markdown",
   "id": "5a82fdf5-cb4a-4eba-9fd6-420a8ec4e765",
   "metadata": {},
   "source": [
    "### Other useful operations:\n",
    " - Squeezing and Unsqueezing\n",
    " - Permuting and Transposing\n",
    " - ..."
   ]
  },
  {
   "cell_type": "markdown",
   "id": "ec1c9969-a5c7-42cc-aefc-02725b49ba4e",
   "metadata": {},
   "source": [
    "\n",
    "CUDA Tensors\n",
    "------------\n",
    "\n",
    "Tensors can be moved onto GPU using the ``.cuda`` function.\n",
    "\n",
    " - To run Jupyter or a Python scrip with CUDA, you need to preprend ``CUDA_VISIBLE_DEVICES=ID`` to the call\n",
    " - Connect to server with forwarding option\n",
    " ```bash \n",
    " ssh -L localhost:9999:localhost:9999 villar@cuda6.informatik.uni-bonn.de\n",
    " ```\n",
    " - Start serving Jupyter Lab\n",
    " ```bash \n",
    " CUDA_VISIBLE_DEVICES=0 jupyter lab --no-browser --port=9999\n",
    " ```\n",
    " \n",
    " "
   ]
  },
  {
   "cell_type": "code",
   "execution_count": 1,
   "id": "7df23551-4d78-4f10-b077-f921f7d41e2f",
   "metadata": {},
   "outputs": [],
   "source": [
    "import torch"
   ]
  },
  {
   "cell_type": "code",
   "execution_count": 2,
   "id": "1cb62c72-1ddb-4c43-bf57-fb16c89cea87",
   "metadata": {},
   "outputs": [
    {
     "data": {
      "text/plain": [
       "False"
      ]
     },
     "execution_count": 2,
     "metadata": {},
     "output_type": "execute_result"
    }
   ],
   "source": [
    "# Gives True if PyTorch has access to the GPU and CUDA\n",
    "torch.cuda.is_available()"
   ]
  },
  {
   "cell_type": "code",
   "execution_count": 77,
   "id": "b86c6071-a191-49f2-86db-bad27be52692",
   "metadata": {},
   "outputs": [
    {
     "data": {
      "text/plain": [
       "0"
      ]
     },
     "execution_count": 77,
     "metadata": {},
     "output_type": "execute_result"
    }
   ],
   "source": [
    "# number of available GPUs\n",
    "torch.cuda.device_count()"
   ]
  },
  {
   "cell_type": "code",
   "execution_count": 23,
   "id": "9e266265-15bf-4713-bdcc-17786bdba576",
   "metadata": {},
   "outputs": [],
   "source": [
    "x = torch.ones(2)\n",
    "y = torch.ones(2)"
   ]
  },
  {
   "cell_type": "code",
   "execution_count": 24,
   "id": "5c3421ae-6ec6-4d72-9285-e63293b994ab",
   "metadata": {},
   "outputs": [
    {
     "name": "stdout",
     "output_type": "stream",
     "text": [
      "tensor([1., 1.])\n",
      "tensor([1., 1.], device='cuda:0')\n"
     ]
    }
   ],
   "source": [
    "print(x)\n",
    "print(x.cuda())"
   ]
  },
  {
   "cell_type": "code",
   "execution_count": 25,
   "id": "e91e4fd7-2ab2-4c51-9a83-4d988792dbd1",
   "metadata": {},
   "outputs": [
    {
     "ename": "RuntimeError",
     "evalue": "Expected all tensors to be on the same device, but found at least two devices, cuda:0 and cpu!",
     "output_type": "error",
     "traceback": [
      "\u001b[0;31m---------------------------------------------------------------------------\u001b[0m",
      "\u001b[0;31mRuntimeError\u001b[0m                              Traceback (most recent call last)",
      "Cell \u001b[0;32mIn[25], line 3\u001b[0m\n\u001b[1;32m      1\u001b[0m x \u001b[38;5;241m=\u001b[39m x\u001b[38;5;241m.\u001b[39mcuda()\n\u001b[0;32m----> 3\u001b[0m z \u001b[38;5;241m=\u001b[39m \u001b[43mx\u001b[49m\u001b[43m \u001b[49m\u001b[38;5;241;43m+\u001b[39;49m\u001b[43m \u001b[49m\u001b[43my\u001b[49m\n",
      "\u001b[0;31mRuntimeError\u001b[0m: Expected all tensors to be on the same device, but found at least two devices, cuda:0 and cpu!"
     ]
    }
   ],
   "source": [
    "x = x.cuda()\n",
    "\n",
    "z = x + y"
   ]
  },
  {
   "cell_type": "code",
   "execution_count": 26,
   "id": "3cb69e59-c8fa-4157-9063-2a895ccf0217",
   "metadata": {},
   "outputs": [
    {
     "name": "stdout",
     "output_type": "stream",
     "text": [
      "tensor([2., 2.], device='cuda:0')\n"
     ]
    }
   ],
   "source": [
    "y = y.cuda()\n",
    "z = x + y\n",
    "print(z)"
   ]
  },
  {
   "cell_type": "code",
   "execution_count": 78,
   "id": "53827880-cde9-4ad9-bd5a-8f1fe8e46d70",
   "metadata": {},
   "outputs": [
    {
     "name": "stdout",
     "output_type": "stream",
     "text": [
      "cpu\n"
     ]
    }
   ],
   "source": [
    "# the magic line\n",
    "device = torch.device(\"cuda\" if torch.cuda.is_available() else \"cpu\")\n",
    "print(device)"
   ]
  },
  {
   "cell_type": "code",
   "execution_count": 79,
   "id": "650629e7-9d16-4de9-99d9-e4a1e4a9c66e",
   "metadata": {},
   "outputs": [],
   "source": [
    "x, y = torch.ones(2), torch.ones(2)\n",
    "x = x.to(device)\n",
    "y = y.to(device)\n",
    "\n",
    "z = x + y"
   ]
  },
  {
   "cell_type": "markdown",
   "id": "479492d4-dd81-4a0a-97eb-4f5ae136ce53",
   "metadata": {},
   "source": [
    "---"
   ]
  },
  {
   "cell_type": "code",
   "execution_count": 29,
   "id": "3b273a6a-04f9-474f-a095-f790c9cb42db",
   "metadata": {},
   "outputs": [
    {
     "name": "stdout",
     "output_type": "stream",
     "text": [
      "Wed Apr 16 10:28:17 2025       \n",
      "+-----------------------------------------------------------------------------------------+\n",
      "| NVIDIA-SMI 565.57.01              Driver Version: 565.57.01      CUDA Version: 12.7     |\n",
      "|-----------------------------------------+------------------------+----------------------+\n",
      "| GPU  Name                 Persistence-M | Bus-Id          Disp.A | Volatile Uncorr. ECC |\n",
      "| Fan  Temp   Perf          Pwr:Usage/Cap |           Memory-Usage | GPU-Util  Compute M. |\n",
      "|                                         |                        |               MIG M. |\n",
      "|=========================================+========================+======================|\n",
      "|   0  NVIDIA GeForce GTX 1650 ...    Off |   00000000:01:00.0  On |                  N/A |\n",
      "| N/A   41C    P8              5W /   40W |     906MiB /   4096MiB |     16%      Default |\n",
      "|                                         |                        |                  N/A |\n",
      "+-----------------------------------------+------------------------+----------------------+\n",
      "                                                                                         \n",
      "+-----------------------------------------------------------------------------------------+\n",
      "| Processes:                                                                              |\n",
      "|  GPU   GI   CI        PID   Type   Process name                              GPU Memory |\n",
      "|        ID   ID                                                               Usage      |\n",
      "|=========================================================================================|\n",
      "|    0   N/A  N/A      1441      G   /usr/lib/xorg/Xorg                             45MiB |\n",
      "|    0   N/A  N/A   1122875      C   /home/villar/anaconda3/bin/python             856MiB |\n",
      "+-----------------------------------------------------------------------------------------+\n"
     ]
    }
   ],
   "source": [
    "!nvidia-smi"
   ]
  },
  {
   "cell_type": "markdown",
   "id": "e92b50db-71b5-4c5e-a163-964618dfafe6",
   "metadata": {},
   "source": [
    "Autograd: Automatic Differentiation\n",
    "===================================\n",
    "\n",
    "Central to all neural networks in PyTorch is the ``autograd`` package.\n",
    "Let’s first briefly visit this, and we will then go to training our\n",
    "first neural network.\n",
    "\n",
    "\n",
    "The ``autograd`` package provides automatic differentiation for all operations\n",
    "on Tensors. It is a define-by-run framework, which means that **your backprop is\n",
    "defined by how your code is run**, and that every single iteration can be\n",
    "different.\n",
    "\n",
    "Let us see this in more simple terms with some examples.\n"
   ]
  },
  {
   "cell_type": "markdown",
   "id": "4241df48-494f-4ce2-9470-4583be1ed7af",
   "metadata": {},
   "source": [
    "## Tensors and Gradients\n",
    "\n",
    "``torch.Tensor`` is the central class of the package. If you set its attribute\n",
    "``.requires_grad`` as ``True``, it starts to track all operations on it.\n"
   ]
  },
  {
   "cell_type": "code",
   "execution_count": 3,
   "id": "64d24d95-2ad2-401b-b999-db886db3adf5",
   "metadata": {},
   "outputs": [
    {
     "name": "stdout",
     "output_type": "stream",
     "text": [
      "'a' requires gradient?: False\n",
      "'a' requires gradient?: True\n"
     ]
    }
   ],
   "source": [
    "a = torch.randn(2, 2)\n",
    "a = ((a * 3) / (a - 1))\n",
    "print(f\"'a' requires gradient?: {a.requires_grad}\")\n",
    "\n",
    "a.requires_grad = True\n",
    "print(f\"'a' requires gradient?: {a.requires_grad}\")"
   ]
  },
  {
   "cell_type": "markdown",
   "id": "15707dec-c220-4771-bf57-f4dae00fc44e",
   "metadata": {
    "tags": []
   },
   "source": [
    "#### By default in torch Tensors ```requires_grad = False```"
   ]
  },
  {
   "cell_type": "code",
   "execution_count": 4,
   "id": "754d297e-ada7-47bd-a04f-5e3b38eb0009",
   "metadata": {},
   "outputs": [
    {
     "name": "stdout",
     "output_type": "stream",
     "text": [
      "tensor([[1., 2., 3.],\n",
      "        [4., 5., 6.]])\n",
      "tensor1.requires_grad = False\n",
      "tensor1.grad = None\n"
     ]
    }
   ],
   "source": [
    "tensor1 = torch.Tensor([[1., 2, 3], [4, 5, 6]])\n",
    "\n",
    "print(tensor1)\n",
    "print(f\"{tensor1.requires_grad = }\")\n",
    "print(f\"{tensor1.grad = }\")"
   ]
  },
  {
   "cell_type": "code",
   "execution_count": 32,
   "id": "ba047f6f-cd6e-4992-abe7-43aa48b7d1ac",
   "metadata": {},
   "outputs": [
    {
     "name": "stdout",
     "output_type": "stream",
     "text": [
      "tensor([[1., 2., 3.],\n",
      "        [4., 5., 6.]], requires_grad=True)\n",
      "tensor1.requires_grad = True\n",
      "tensor1.grad = None\n"
     ]
    }
   ],
   "source": [
    "tensor1.requires_grad_()\n",
    "# tensor1.requires_grad = True\n",
    "print(tensor1)\n",
    "print(f\"{tensor1.requires_grad = }\")\n",
    "print(f\"{tensor1.grad = }\")"
   ]
  },
  {
   "cell_type": "markdown",
   "id": "8991f96b-659b-4b2d-929a-695e1aa0ff32",
   "metadata": {},
   "source": [
    "#### There’s one more class which is very important for autograd implementation - a ```Function```. ```Tensor``` and ```Function``` are interconnected and build up an acyclic graph, that encodes a complete history of computation. Each tensor has a ```.grad_fn``` attribute that references a ```Function``` that has created the ```Tensor``` (except for Tensors created by the user - their ```grad_fn is None```)"
   ]
  },
  {
   "cell_type": "code",
   "execution_count": 3,
   "id": "5ff043f5-f30c-4c13-a513-3116a5d16462",
   "metadata": {},
   "outputs": [
    {
     "name": "stdout",
     "output_type": "stream",
     "text": [
      "'a' grad function: None\n",
      "'b' grad function: <PowBackward0 object at 0x10411d3f0>\n",
      "'c' grad function: <MeanBackward0 object at 0x10411c4c0>\n"
     ]
    }
   ],
   "source": [
    "a = torch.ones((2,2)).requires_grad_()\n",
    "b = a ** 2\n",
    "c = b.mean()\n",
    "print(f\"'a' grad function: {a.grad_fn}\")\n",
    "print(f\"'b' grad function: {b.grad_fn}\")\n",
    "print(f\"'c' grad function: {c.grad_fn}\")"
   ]
  },
  {
   "cell_type": "code",
   "execution_count": 34,
   "id": "e8b07cf4-0761-47ac-8f5e-dedbb6829e92",
   "metadata": {},
   "outputs": [
    {
     "name": "stdout",
     "output_type": "stream",
     "text": [
      "tensor([[1., 1.],\n",
      "        [1., 1.]], grad_fn=<PowBackward0>)\n",
      "tensor(1., grad_fn=<MeanBackward0>)\n"
     ]
    }
   ],
   "source": [
    "print(b)\n",
    "print(c)"
   ]
  },
  {
   "cell_type": "markdown",
   "id": "0121ed24-5f37-470e-9bd8-8a4496d61a02",
   "metadata": {},
   "source": [
    "#### When you finish your computation you can call ```.backward()``` and have all the gradients computed automatically. The gradient for this tensor will be accumulated into ```.grad``` attribute."
   ]
  },
  {
   "cell_type": "code",
   "execution_count": 35,
   "id": "77f53751-e487-49d2-9bb0-4e3326c0659d",
   "metadata": {},
   "outputs": [
    {
     "name": "stdout",
     "output_type": "stream",
     "text": [
      "None\n"
     ]
    }
   ],
   "source": [
    "# no backward pass, so grads are None\n",
    "print(a.grad)"
   ]
  },
  {
   "cell_type": "code",
   "execution_count": 36,
   "id": "cf3454f3-3231-4bc4-a0d5-9ca4a7416c01",
   "metadata": {},
   "outputs": [
    {
     "name": "stdout",
     "output_type": "stream",
     "text": [
      "None\n"
     ]
    },
    {
     "name": "stderr",
     "output_type": "stream",
     "text": [
      "<ipython-input-36-68d6cbf2e84a>:2: UserWarning: The .grad attribute of a Tensor that is not a leaf Tensor is being accessed. Its .grad attribute won't be populated during autograd.backward(). If you indeed want the gradient for a non-leaf Tensor, use .retain_grad() on the non-leaf Tensor. If you access the non-leaf Tensor by mistake, make sure you access the leaf Tensor instead. See github.com/pytorch/pytorch/pull/30531 for more informations.\n",
      "  print(b.grad)\n"
     ]
    }
   ],
   "source": [
    "# but you can only access gradients of 'leaf tensors'\n",
    "print(b.grad)"
   ]
  },
  {
   "cell_type": "code",
   "execution_count": 37,
   "id": "0efa3dc7-51f3-4dd8-ba14-5a499c6f5094",
   "metadata": {},
   "outputs": [
    {
     "name": "stdout",
     "output_type": "stream",
     "text": [
      "tensor([[0.5000, 0.5000],\n",
      "        [0.5000, 0.5000]])\n"
     ]
    }
   ],
   "source": [
    "c.backward()\n",
    "print(a.grad)"
   ]
  },
  {
   "cell_type": "markdown",
   "id": "05c00f97-e1c1-4326-9452-c48a0673a757",
   "metadata": {},
   "source": [
    "#### **Important** Future calls to backward will accumulate gradients into this vector\n",
    "\n",
    "#### - $y = \\frac{1}{4} \\sum_{i=1}^{4} 2 \\cdot x_i $\n",
    "#### - $\\frac{\\partial y}{\\partial x_i} = \\frac{1}{2}$"
   ]
  },
  {
   "cell_type": "code",
   "execution_count": 40,
   "id": "afbcf612-b7e1-4510-bcb3-86677d521ce0",
   "metadata": {},
   "outputs": [
    {
     "name": "stdout",
     "output_type": "stream",
     "text": [
      "Gradients at iteration 1:\n",
      "tensor([[0.5000, 0.5000],\n",
      "        [0.5000, 0.5000]])\n",
      "\n",
      "Gradients at iteration 2:\n",
      "tensor([[1., 1.],\n",
      "        [1., 1.]])\n",
      "\n",
      "Gradients at iteration 3:\n",
      "tensor([[1.5000, 1.5000],\n",
      "        [1.5000, 1.5000]])\n",
      "\n"
     ]
    }
   ],
   "source": [
    "x = torch.rand((2, 2)).requires_grad_()\n",
    "\n",
    "for i in range(3):\n",
    "    y = (2 * x).mean()\n",
    "    y.backward()\n",
    "    print(f\"Gradients at iteration {i+1}:\")\n",
    "    print(f\"{x.grad}\\n\")\n",
    "    # x.grad.zero_()"
   ]
  },
  {
   "cell_type": "markdown",
   "id": "9463261b-a729-4ea7-8213-9d606e1cf4e8",
   "metadata": {},
   "source": [
    "### Enabling and Disabling Gradient Calculations \n",
    "You can also stops autograd from tracking history on newly created tensors with *requires_grad=True* by wrapping the code block in \n",
    "**with torch.no_grad()**"
   ]
  },
  {
   "cell_type": "code",
   "execution_count": 41,
   "id": "c2d5f0b9-5e9a-4048-a704-b2087501fcaf",
   "metadata": {},
   "outputs": [],
   "source": [
    "tensor1 = torch.Tensor([[1, 2, 3], \n",
    "                        [4, 5, 6]])\n",
    "tensor1.requires_grad = True"
   ]
  },
  {
   "cell_type": "code",
   "execution_count": 42,
   "id": "1663a5c8-4856-4db0-b0de-6556c28b3e7b",
   "metadata": {},
   "outputs": [
    {
     "name": "stdout",
     "output_type": "stream",
     "text": [
      "new_tensor =  tensor([[ 3.,  6.,  9.],\n",
      "        [12., 15., 18.]])\n",
      "requires_grad for tensor1 =  True\n",
      "requires_grad for new_tensor =  False\n"
     ]
    }
   ],
   "source": [
    "with torch.no_grad():\n",
    "    new_tensor = tensor1 * 3\n",
    "    print('new_tensor = ', new_tensor)\n",
    "    print('requires_grad for tensor1 = ', tensor1.requires_grad)\n",
    "    print('requires_grad for new_tensor = ', new_tensor.requires_grad)"
   ]
  },
  {
   "cell_type": "code",
   "execution_count": 43,
   "id": "6328551e-c543-4e6d-ab26-b8e5581aec3c",
   "metadata": {},
   "outputs": [
    {
     "name": "stdout",
     "output_type": "stream",
     "text": [
      "new_tensor =  tensor([[ 3.,  6.,  9.],\n",
      "        [12., 15., 18.]])\n",
      "requires_grad for tensor1 =  True\n",
      "requires_grad for new_tensor =  False\n"
     ]
    }
   ],
   "source": [
    "@torch.no_grad()\n",
    "def mult_by_three(x):\n",
    "    y = x * 3\n",
    "    print('new_tensor = ', y)\n",
    "    print('requires_grad for tensor1 = ', x.requires_grad)\n",
    "    print('requires_grad for new_tensor = ', y.requires_grad)\n",
    "mult_by_three(tensor1)"
   ]
  },
  {
   "cell_type": "markdown",
   "id": "6af9eea2-6a6a-42b2-9bd2-5bef22708d55",
   "metadata": {},
   "source": [
    "---"
   ]
  },
  {
   "cell_type": "markdown",
   "id": "92bbcc96-877d-470d-946e-1b04e4d8faea",
   "metadata": {},
   "source": [
    "# 3- Training and Optimization Tips"
   ]
  },
  {
   "cell_type": "markdown",
   "id": "4ee607b3-1255-4e5b-8db8-19bd502a7927",
   "metadata": {},
   "source": [
    "---"
   ]
  },
  {
   "cell_type": "markdown",
   "id": "69b7b736-d61f-47e8-9fa4-c4b1dde64ace",
   "metadata": {},
   "source": [
    "# 4- Training and Evaluating an MLP"
   ]
  },
  {
   "cell_type": "markdown",
   "id": "0bc744a4-cee7-4557-99d0-1480c650f17c",
   "metadata": {},
   "source": [
    "## 4.1- The MNIST Dataset\n",
    "\n",
    "Official webpage: http://yann.lecun.com/exdb/mnist/\n",
    "\n",
    "The MNIST database contains 60,000 training images and 10,000 testing images. We can flatten this array into a vector of 28x28 = 784 numbers.\n",
    "\n",
    "MNIST is a simple computer vision dataset. It consists of images of handwritten digits like these:\n",
    "\n",
    "<img src=\"imgs/MNIST.png\">\n",
    "\n",
    "It also includes labels for each image, telling us which digit it is. For example, the labels for the above images are 5, 0, 4, and 1."
   ]
  },
  {
   "cell_type": "code",
   "execution_count": 44,
   "id": "7311fe69-6cb7-467e-a319-d580d25c3ba8",
   "metadata": {},
   "outputs": [
    {
     "name": "stdout",
     "output_type": "stream",
     "text": [
      "Using downloaded and verified file: ./data/MNIST/raw/train-images-idx3-ubyte.gz\n",
      "Extracting ./data/MNIST/raw/train-images-idx3-ubyte.gz to ./data/MNIST/raw\n",
      "Using downloaded and verified file: ./data/MNIST/raw/train-labels-idx1-ubyte.gz\n",
      "Extracting ./data/MNIST/raw/train-labels-idx1-ubyte.gz to ./data/MNIST/raw\n",
      "Using downloaded and verified file: ./data/MNIST/raw/t10k-images-idx3-ubyte.gz\n",
      "Extracting ./data/MNIST/raw/t10k-images-idx3-ubyte.gz to ./data/MNIST/raw\n",
      "Using downloaded and verified file: ./data/MNIST/raw/t10k-labels-idx1-ubyte.gz\n",
      "Extracting ./data/MNIST/raw/t10k-labels-idx1-ubyte.gz to ./data/MNIST/raw\n",
      "Processing...\n",
      "Done!\n"
     ]
    },
    {
     "name": "stderr",
     "output_type": "stream",
     "text": [
      "/home/villar/.local/lib/python3.8/site-packages/torchvision/datasets/mnist.py:480: UserWarning: The given NumPy array is not writeable, and PyTorch does not support non-writeable tensors. This means you can write to the underlying (supposedly non-writeable) NumPy array using the tensor. You may want to copy the array to protect its data or make it writeable before converting it to a tensor. This type of warning will be suppressed for the rest of this program. (Triggered internally at  /pytorch/torch/csrc/utils/tensor_numpy.cpp:141.)\n",
      "  return torch.from_numpy(parsed.astype(m[2], copy=False)).view(*s)\n"
     ]
    }
   ],
   "source": [
    "import numpy as np\n",
    "import torch\n",
    "import torch.nn as nn\n",
    "import torchvision.transforms as transforms\n",
    "import torchvision.datasets as datasets\n",
    "\n",
    "train_dataset = datasets.MNIST(root='./data', train=True, transform=transforms.ToTensor(), download=True)\n",
    "test_dataset = datasets.MNIST(root='./data', train=False, transform=transforms.ToTensor(), download=True)"
   ]
  },
  {
   "cell_type": "markdown",
   "id": "8d0c995d-2e3b-477e-9889-71991d90d857",
   "metadata": {},
   "source": [
    "#### Which functions must a dataset have?"
   ]
  },
  {
   "cell_type": "code",
   "execution_count": 45,
   "id": "60ae61d6-eaf2-440a-8058-1b9fcccb83d7",
   "metadata": {},
   "outputs": [],
   "source": [
    "n_imgs_train = len(train_dataset)\n",
    "n_imgs_test = len(test_dataset)"
   ]
  },
  {
   "cell_type": "code",
   "execution_count": 46,
   "id": "f3471e76-4b71-4dbf-a499-49f79fa71b99",
   "metadata": {},
   "outputs": [
    {
     "name": "stdout",
     "output_type": "stream",
     "text": [
      "# Images Train: 60000\n",
      "# Images Test:  10000\n"
     ]
    }
   ],
   "source": [
    "print(f\"# Images Train: {n_imgs_train}\")\n",
    "print(f\"# Images Test:  {n_imgs_test}\")"
   ]
  },
  {
   "cell_type": "code",
   "execution_count": 47,
   "id": "d2708b2a-b64d-4d70-81dd-b2676eafd078",
   "metadata": {},
   "outputs": [
    {
     "name": "stdout",
     "output_type": "stream",
     "text": [
      "Image shape: torch.Size([1, 28, 28])\n",
      "Label: 5\n"
     ]
    }
   ],
   "source": [
    "img_shape = train_dataset[0][0].shape\n",
    "label = train_dataset[0][1]\n",
    "\n",
    "print(f\"Image shape: {img_shape}\")\n",
    "print(f\"Label: {label}\")"
   ]
  },
  {
   "cell_type": "code",
   "execution_count": 48,
   "id": "04ac75bb-13b7-4e8b-a5ba-c19309c4fa69",
   "metadata": {},
   "outputs": [
    {
     "data": {
      "image/png": "[encoded data removed]",
      "text/plain": [
       "<Figure size 2400x300 with 8 Axes>"
      ]
     },
     "metadata": {},
     "output_type": "display_data"
    }
   ],
   "source": [
    "import matplotlib.pyplot as plt\n",
    "\n",
    "N_IMGS = 8\n",
    "fig, ax = plt.subplots(1,N_IMGS)\n",
    "fig.set_size_inches(3 * N_IMGS, 3)\n",
    "\n",
    "ids = np.random.randint(low=0, high=len(train_dataset), size=N_IMGS)\n",
    "\n",
    "for i, n in enumerate(ids):\n",
    "    img = train_dataset[n][0].numpy().reshape(28,28)\n",
    "    ax[i].imshow(img, cmap='gray')\n",
    "    ax[i].set_title(f\"Img #{n}  Label: {train_dataset[n][1]}\")\n",
    "    ax[i].axis(\"off\")\n",
    "plt.show()"
   ]
  },
  {
   "cell_type": "markdown",
   "id": "355d18f4-64e8-4a97-945a-efabeb4f62f6",
   "metadata": {},
   "source": [
    "### Data Loaders\n",
    "\n",
    "With our dataset object we can iterate over the Dataset by sampling images and their corresponding targets. <br>\n",
    "However, this is somewhat cumbersone and does nto scale too well.<br>\n",
    "\n",
    "In practice, we use Data Loaders, which provide an efficient way to iterate a Dataset object. \n",
    "\n",
    " - https://pytorch.org/docs/stable/data.html#torch.utils.data.DataLoader"
   ]
  },
  {
   "cell_type": "code",
   "execution_count": 49,
   "id": "ed9dd91f-4a2a-4548-94c3-e3459bad7141",
   "metadata": {},
   "outputs": [],
   "source": [
    "BATCH_SIZE = 1024\n",
    "SHUFFLE_TRAIN = True"
   ]
  },
  {
   "cell_type": "code",
   "execution_count": 56,
   "id": "52c8a501-b9f6-43c7-9e58-8a59b33f27dc",
   "metadata": {},
   "outputs": [],
   "source": [
    "train_loader =  torch.utils.data.DataLoader(\n",
    "        dataset=train_dataset,\n",
    "        batch_size=BATCH_SIZE,\n",
    "        shuffle=SHUFFLE_TRAIN\n",
    "    )\n",
    "\n",
    "eval_loader =  torch.utils.data.DataLoader(\n",
    "        dataset=test_dataset,\n",
    "        batch_size=BATCH_SIZE,\n",
    "        shuffle=False,\n",
    "        drop_last=False\n",
    "    )"
   ]
  },
  {
   "cell_type": "code",
   "execution_count": 57,
   "id": "666d662e-fbdc-4347-8cc9-552a609ddc26",
   "metadata": {},
   "outputs": [
    {
     "name": "stdout",
     "output_type": "stream",
     "text": [
      "imgs.shape = torch.Size([1024, 1, 28, 28])\n",
      "labels.shape = torch.Size([1024])\n"
     ]
    }
   ],
   "source": [
    "imgs, labels = next(iter(eval_loader))\n",
    "print(f\"{imgs.shape = }\")\n",
    "print(f\"{labels.shape = }\")"
   ]
  },
  {
   "cell_type": "code",
   "execution_count": 58,
   "id": "b3880cb5-6725-486b-b809-5250392a6e31",
   "metadata": {},
   "outputs": [
    {
     "name": "stdout",
     "output_type": "stream",
     "text": [
      "Iterating batch #1, which has 1024 elements\n",
      "Iterating batch #2, which has 1024 elements\n",
      "Iterating batch #3, which has 1024 elements\n",
      "Iterating batch #4, which has 1024 elements\n",
      "Iterating batch #5, which has 1024 elements\n",
      "Iterating batch #6, which has 1024 elements\n",
      "Iterating batch #7, which has 1024 elements\n",
      "Iterating batch #8, which has 1024 elements\n",
      "Iterating batch #9, which has 1024 elements\n",
      "Iterating batch #10, which has 784 elements\n"
     ]
    }
   ],
   "source": [
    "for i, (imgs, labels) in enumerate(eval_loader):\n",
    "    print(f\"Iterating batch #{i+1}, which has {len(labels)} elements\")\n",
    "    if i > 10:\n",
    "        break"
   ]
  },
  {
   "cell_type": "markdown",
   "id": "9b7f37bf-b1c0-47f2-94b3-d1e97664baa8",
   "metadata": {},
   "source": [
    "## 4.2 Fully Connected Networks and Multi-Layer Perceptron\n",
    "\n",
    "Let's now implement our first neural networks. We will implement a fully connected network (or MLPs) for classification.\n",
    "\n",
    "<img src=\"imgs/MLP.png\" width=\"20%\"> <span style=\"width: 300px\"></span> <img src=\"imgs/softmax.png\" width=\"48%'\">"
   ]
  },
  {
   "cell_type": "markdown",
   "id": "75dd435c-ec60-4612-a12b-acd8cc85e5f7",
   "metadata": {},
   "source": [
    "## 4.2.1 MLP Implementation"
   ]
  },
  {
   "cell_type": "code",
   "execution_count": 59,
   "id": "182bae85-d13d-49f8-90b9-17a0cbbccd4a",
   "metadata": {},
   "outputs": [],
   "source": [
    "import torch.nn as nn"
   ]
  },
  {
   "cell_type": "code",
   "execution_count": 60,
   "id": "9582f6bc-4b9f-48da-be7d-365bea451830",
   "metadata": {},
   "outputs": [],
   "source": [
    "class Model(nn.Module):\n",
    "    \"\"\"\n",
    "    MLP composed of two fully connected layers.\n",
    "     - First layer takes pixel values and maps them to a hidden dimension\n",
    "     - Nonlinear activation\n",
    "     - Second layer maps from hidden dimension to number of classes, predicting a score for each of the classes\n",
    "    \"\"\"\n",
    "    def __init__(self, input_dim=784, hidden_dim=128, output_dim=10):\n",
    "        \"\"\" Model initalizer \"\"\"\n",
    "        super().__init__()\n",
    "        self.layers = nn.Sequential(\n",
    "                nn.Linear(in_features=input_dim, out_features=hidden_dim),\n",
    "                nn.ReLU(),\n",
    "                nn.Linear(in_features=hidden_dim, out_features=output_dim)\n",
    "            )\n",
    "        \n",
    "    def forward(self, x):\n",
    "        \"\"\" Forward pass through the model\"\"\"\n",
    "        assert len(x.shape) == 2, f\"ERROR! Shape of input must be 2D (b_size, dim)\"\n",
    "        pred = self.layers(x)\n",
    "        return pred\n",
    "\n",
    "\n",
    "def count_model_params(model):\n",
    "    \"\"\" Counting the number of learnable parameters in a nn.Module \"\"\"\n",
    "    num_params = sum(p.numel() for p in model.parameters() if p.requires_grad)\n",
    "    return num_params"
   ]
  },
  {
   "cell_type": "code",
   "execution_count": 61,
   "id": "14fca2bf-c655-43b0-9e45-7cb00fe08f09",
   "metadata": {},
   "outputs": [
    {
     "name": "stdout",
     "output_type": "stream",
     "text": [
      "Model(\n",
      "  (layers): Sequential(\n",
      "    (0): Linear(in_features=784, out_features=128, bias=True)\n",
      "    (1): ReLU()\n",
      "    (2): Linear(in_features=128, out_features=10, bias=True)\n",
      "  )\n",
      ")\n"
     ]
    }
   ],
   "source": [
    "model = Model(input_dim=784, hidden_dim=128, output_dim=10)\n",
    "print(model)"
   ]
  },
  {
   "cell_type": "code",
   "execution_count": 68,
   "id": "d68bec7a-2533-4918-bf9d-31f526cebe6f",
   "metadata": {},
   "outputs": [
    {
     "data": {
      "text/plain": [
       "101770"
      ]
     },
     "execution_count": 68,
     "metadata": {},
     "output_type": "execute_result"
    }
   ],
   "source": [
    "(784 * 128 + 128) + 128*10+10"
   ]
  },
  {
   "cell_type": "code",
   "execution_count": 63,
   "id": "dba463a9-789d-49ef-8d52-effe7368716d",
   "metadata": {},
   "outputs": [
    {
     "data": {
      "text/plain": [
       "101770"
      ]
     },
     "execution_count": 63,
     "metadata": {},
     "output_type": "execute_result"
    }
   ],
   "source": [
    "count_model_params(model)"
   ]
  },
  {
   "cell_type": "code",
   "execution_count": 64,
   "id": "894268ae-1fb6-438c-b97c-1acda801968b",
   "metadata": {},
   "outputs": [
    {
     "name": "stdout",
     "output_type": "stream",
     "text": [
      "Imgs shape:         torch.Size([1024, 1, 28, 28])\n",
      "Model input shape:  torch.Size([1024, 784])\n",
      "Model output shape: torch.Size([1024, 10])\n"
     ]
    }
   ],
   "source": [
    "imgs, labels = next(iter(eval_loader))      # sampling images\n",
    "flattened_imgs = imgs.flatten(start_dim=1)  # reshaping to desired size\n",
    "output = model(flattened_imgs)              # forward pass through model\n",
    "\n",
    "print(f\"Imgs shape:         {imgs.shape}\")\n",
    "print(f\"Model input shape:  {flattened_imgs.shape}\")\n",
    "print(f\"Model output shape: {output.shape}\")"
   ]
  },
  {
   "cell_type": "markdown",
   "id": "2f94f28b-5d2f-42f9-a6c6-6f7e9396c491",
   "metadata": {},
   "source": [
    "## 4.2.2 Training the Model"
   ]
  },
  {
   "cell_type": "code",
   "execution_count": 65,
   "id": "19bbcccd-8a0e-449a-be51-dfb04ebf970b",
   "metadata": {},
   "outputs": [],
   "source": [
    "from tqdm import tqdm"
   ]
  },
  {
   "cell_type": "code",
   "execution_count": 66,
   "id": "5404b110-69e0-4dec-a0cf-ab999cc0f005",
   "metadata": {},
   "outputs": [],
   "source": [
    "NUM_EPOCHS = 10\n",
    "LR = 3e-4"
   ]
  },
  {
   "cell_type": "code",
   "execution_count": 67,
   "id": "06f88d9d-285a-4255-bed6-df119667bfd5",
   "metadata": {},
   "outputs": [],
   "source": [
    "device = torch.device(\"cuda\" if torch.cuda.is_available() else \"cpu\")\n",
    "model = Model(input_dim=784, hidden_dim=128, output_dim=10)\n",
    "model = model.to(device)"
   ]
  },
  {
   "cell_type": "code",
   "execution_count": 69,
   "id": "215b3ed0-478f-4c35-b64b-f7b17574edd4",
   "metadata": {},
   "outputs": [],
   "source": [
    "criterion = nn.CrossEntropyLoss()  # already includes a Softmax!\n",
    "optimizer = torch.optim.Adam(model.parameters(), lr=LR)"
   ]
  },
  {
   "cell_type": "code",
   "execution_count": 70,
   "id": "286197d2-0130-4e0d-b366-9861dc424608",
   "metadata": {},
   "outputs": [
    {
     "name": "stderr",
     "output_type": "stream",
     "text": [
      "Epoch 1 Iter 59: loss 1.05634. : 100%|██████████| 59/59 [00:05<00:00, 11.21it/s]\n",
      "Epoch 2 Iter 59: loss 0.56599. : 100%|██████████| 59/59 [00:04<00:00, 12.21it/s]\n",
      "Epoch 3 Iter 59: loss 0.42211. : 100%|██████████| 59/59 [00:06<00:00,  9.23it/s]\n",
      "Epoch 4 Iter 59: loss 0.34121. : 100%|██████████| 59/59 [00:06<00:00,  9.33it/s]\n",
      "Epoch 5 Iter 59: loss 0.37809. : 100%|██████████| 59/59 [00:06<00:00,  9.24it/s]\n",
      "Epoch 6 Iter 59: loss 0.34147. : 100%|██████████| 59/59 [00:06<00:00,  9.09it/s]\n",
      "Epoch 7 Iter 59: loss 0.36007. : 100%|██████████| 59/59 [00:06<00:00,  8.97it/s]\n",
      "Epoch 8 Iter 59: loss 0.32843. : 100%|██████████| 59/59 [00:05<00:00, 10.01it/s]\n",
      "Epoch 9 Iter 59: loss 0.24498. : 100%|██████████| 59/59 [00:06<00:00,  9.17it/s]\n",
      "Epoch 10 Iter 59: loss 0.26142. : 100%|██████████| 59/59 [00:06<00:00,  9.53it/s]\n"
     ]
    }
   ],
   "source": [
    "loss_list = []\n",
    "\n",
    "for epoch in range(NUM_EPOCHS):\n",
    "    progress_bar = tqdm(train_loader, total=len(train_loader))\n",
    "    for i, (imgs, labels) in enumerate(progress_bar):\n",
    "        # using GPU\n",
    "        imgs, labels = imgs.to(device), labels.to(device)\n",
    "    \n",
    "        # forward pass\n",
    "        flattened_imgs = imgs.flatten(start_dim=1)\n",
    "        preds = model(flattened_imgs)\n",
    "    \n",
    "        # computing error\n",
    "        loss = criterion(preds, labels)\n",
    "        loss_list.append(loss.item())\n",
    "\n",
    "        # removing accumulated gradients\n",
    "        optimizer.zero_grad()\n",
    "    \n",
    "        # backprogating error to compute gradients\n",
    "        loss.backward()\n",
    "    \n",
    "        # updating arameters\n",
    "        optimizer.step()\n",
    "    \n",
    "        if(i % 10 == 0 or i == len(train_loader) - 1):\n",
    "            progress_bar.set_description(f\"Epoch {epoch + 1} Iter {i + 1}: loss {loss.item():.5f}. \")"
   ]
  },
  {
   "cell_type": "code",
   "execution_count": 71,
   "id": "c7c3e75b-0045-41dd-9f94-8848711b556d",
   "metadata": {},
   "outputs": [],
   "source": [
    "def smooth(f, K=5):\n",
    "    \"\"\" Smoothing a function using a low-pass filter (mean) of size K \"\"\"\n",
    "    kernel = np.ones(K) / K\n",
    "    f = np.concatenate([f[:int(K//2)], f, f[int(-K//2):]])  # to account for boundaries\n",
    "    smooth_f = np.convolve(f, kernel, mode=\"same\")\n",
    "    smooth_f = smooth_f[K//2: -K//2]  # removing boundary-fixes\n",
    "    return smooth_f"
   ]
  },
  {
   "cell_type": "code",
   "execution_count": 72,
   "id": "a7248f91-bedb-4c26-ba21-30ad90481049",
   "metadata": {},
   "outputs": [
    {
     "data": {
      "image/png": "[encoded data removed]",
      "text/plain": [
       "<Figure size 1800x500 with 2 Axes>"
      ]
     },
     "metadata": {},
     "output_type": "display_data"
    }
   ],
   "source": [
    "plt.style.use('seaborn')\n",
    "fig, ax = plt.subplots(1,2)\n",
    "fig.set_size_inches(18,5)\n",
    "\n",
    "smooth_loss = smooth(loss_list, 31)\n",
    "ax[0].plot(loss_list, c=\"blue\", label=\"Training Loss\", linewidth=3, alpha=0.5)\n",
    "ax[0].plot(smooth_loss, c=\"red\", label=\"Smoothed Loss\", linewidth=3)\n",
    "ax[0].legend(loc=\"best\")\n",
    "ax[0].set_xlabel(\"Iteration\")\n",
    "ax[0].set_ylabel(\"CE Loss\")\n",
    "ax[0].set_title(\"Training Progress (linearscale)\")\n",
    "\n",
    "ax[1].plot(loss_list, c=\"blue\", label=\"Training Loss\", linewidth=3, alpha=0.5)\n",
    "ax[1].plot(smooth_loss, c=\"red\", label=\"Smoothed Loss\", linewidth=3)\n",
    "ax[1].legend(loc=\"best\")\n",
    "ax[1].set_xlabel(\"Iteration\")\n",
    "ax[1].set_ylabel(\"CE Loss\")\n",
    "ax[1].set_yscale(\"log\")\n",
    "ax[1].set_title(\"Training Progress (logscale)\")\n",
    "\n",
    "plt.show()"
   ]
  },
  {
   "cell_type": "markdown",
   "id": "cd3f0dd4-cc88-4bb3-8326-665e0b556127",
   "metadata": {},
   "source": [
    "## 4.2.3 Evaluating Trained MLP"
   ]
  },
  {
   "cell_type": "code",
   "execution_count": 73,
   "id": "d2386897-0611-40d2-901e-86440572a2d1",
   "metadata": {},
   "outputs": [
    {
     "name": "stderr",
     "output_type": "stream",
     "text": [
      "100%|██████████| 10/10 [00:01<00:00,  9.26it/s]"
     ]
    },
    {
     "name": "stdout",
     "output_type": "stream",
     "text": [
      "Test accuracy: 92.9%\n"
     ]
    },
    {
     "name": "stderr",
     "output_type": "stream",
     "text": [
      "\n"
     ]
    }
   ],
   "source": [
    "n_correct = 0\n",
    "\n",
    "with torch.no_grad():\n",
    "    progress_bar = tqdm(enumerate(eval_loader), total=len(eval_loader))\n",
    "    for i, (imgs, labels) in progress_bar: \n",
    "        #everything needs to be on the same device\n",
    "        imgs = imgs.to(device)\n",
    "        labels = labels.to(device)\n",
    "        \n",
    "        # forward pass\n",
    "        flattened_imgs = imgs.flatten(start_dim=1)\n",
    "        preds = model(flattened_imgs)\n",
    "        \n",
    "        pred_labels = torch.argmax(torch.softmax(preds, dim=-1), dim=-1)\n",
    "        cur_correct = len(torch.where(pred_labels == labels)[0])\n",
    "        n_correct = n_correct + cur_correct\n",
    "\n",
    "accuracy = n_correct / len(test_dataset) * 100\n",
    "print(f\"Test accuracy: {round(accuracy,2)}%\")"
   ]
  },
  {
   "cell_type": "markdown",
   "id": "9135050b-6a22-4a8d-a6e7-5ecae1a79d32",
   "metadata": {},
   "source": [
    "# 4.3 Convolutional Neural Networks"
   ]
  },
  {
   "cell_type": "markdown",
   "id": "9cf108fe-92b0-490c-9fda-565293da083d",
   "metadata": {},
   "source": [
    "## 4.3.1 CNN Implementation"
   ]
  },
  {
   "cell_type": "code",
   "execution_count": 74,
   "id": "08152746-185c-41c8-b922-5d75620945a4",
   "metadata": {},
   "outputs": [],
   "source": [
    "class CNN(nn.Module):\n",
    "    \"\"\" \n",
    "    Varation of LeNet: a simple CNN model\n",
    "    for handwritten digit recognition\n",
    "    \"\"\"\n",
    "    def __init__(self):\n",
    "        \"\"\" Model initializer \"\"\"\n",
    "        super().__init__()\n",
    "        \n",
    "        # layer 1\n",
    "        # (1,28,28)\n",
    "        conv1 = nn.Conv2d(in_channels=1, out_channels=16, kernel_size=5, stride=1, padding=0)\n",
    "        # (16, 24, 24)\n",
    "        relu1 = nn.ReLU()\n",
    "        maxpool1 = nn.MaxPool2d(kernel_size=2)\n",
    "        # (16, 12, 12)\n",
    "        self.layer1 = nn.Sequential(\n",
    "                conv1, relu1, maxpool1\n",
    "            )\n",
    "      \n",
    "        # layer 2\n",
    "        # (16, 12, 12)\n",
    "        conv2 = nn.Conv2d(in_channels=16, out_channels=32,  kernel_size=5, stride=1, padding=0)\n",
    "        # (32, 8, 8)\n",
    "        relu2 = nn.ReLU()\n",
    "        maxpool2 = nn.MaxPool2d(kernel_size=2)\n",
    "        # (32, 4, 4)\n",
    "        self.layer2 = nn.Sequential(\n",
    "                conv2, relu2, maxpool2\n",
    "            )\n",
    "        \n",
    "        # fully connected classifier\n",
    "        in_dim = 32 * 4 * 4\n",
    "        self.fc = nn.Linear(in_features=in_dim, out_features=10)\n",
    "        \n",
    "        return\n",
    "        \n",
    "    def forward(self, x):\n",
    "        \"\"\" Forward pass \"\"\"\n",
    "        cur_b_size = x.shape[0]\n",
    "        out1 = self.layer1(x)\n",
    "        out2 = self.layer2(out1) # (B, 32, 4 ,4 ) -> (B, 32 * 4 * 4)\n",
    "        out2_flat = out2.view(cur_b_size, -1)\n",
    "        y = self.fc(out2_flat)\n",
    "        return y\n",
    "    \n",
    "def count_model_params(model):\n",
    "    \"\"\" Counting the number of learnable parameters in a nn.Module \"\"\"\n",
    "    num_params = sum(p.numel() for p in model.parameters() if p.requires_grad)\n",
    "    return num_params"
   ]
  },
  {
   "cell_type": "code",
   "execution_count": 75,
   "id": "09361b37-7b53-45e3-9263-d054330a5dba",
   "metadata": {},
   "outputs": [],
   "source": [
    "cnn = CNN()\n",
    "params = count_model_params(cnn)"
   ]
  },
  {
   "cell_type": "code",
   "execution_count": 77,
   "id": "ad1556a1-ffde-4247-9ee1-848592f91e00",
   "metadata": {},
   "outputs": [
    {
     "data": {
      "text/plain": [
       "CNN(\n",
       "  (layer1): Sequential(\n",
       "    (0): Conv2d(1, 16, kernel_size=(5, 5), stride=(1, 1))\n",
       "    (1): ReLU()\n",
       "    (2): MaxPool2d(kernel_size=2, stride=2, padding=0, dilation=1, ceil_mode=False)\n",
       "  )\n",
       "  (layer2): Sequential(\n",
       "    (0): Conv2d(16, 32, kernel_size=(5, 5), stride=(1, 1))\n",
       "    (1): ReLU()\n",
       "    (2): MaxPool2d(kernel_size=2, stride=2, padding=0, dilation=1, ceil_mode=False)\n",
       "  )\n",
       "  (fc): Linear(in_features=512, out_features=10, bias=True)\n",
       ")"
      ]
     },
     "execution_count": 77,
     "metadata": {},
     "output_type": "execute_result"
    }
   ],
   "source": [
    "cnn"
   ]
  },
  {
   "cell_type": "code",
   "execution_count": 83,
   "id": "4b2777fa-1fda-49a7-93b0-5ef9e2ffcba4",
   "metadata": {},
   "outputs": [
    {
     "data": {
      "text/plain": [
       "18378"
      ]
     },
     "execution_count": 83,
     "metadata": {},
     "output_type": "execute_result"
    }
   ],
   "source": [
    "16*5*5 + 16 + 16*32*5*5 + 32 + 512*10 + 10"
   ]
  },
  {
   "cell_type": "code",
   "execution_count": 82,
   "id": "71cef265-bb3a-4757-9a6d-4077e643c145",
   "metadata": {},
   "outputs": [
    {
     "name": "stdout",
     "output_type": "stream",
     "text": [
      "Num. Params: 18378\n"
     ]
    }
   ],
   "source": [
    "print(f\"Num. Params: {params}\")"
   ]
  },
  {
   "cell_type": "markdown",
   "id": "5f5a7b18-2db1-45f4-84da-3c73df789242",
   "metadata": {},
   "source": [
    "## 4.3.2 CNN Training"
   ]
  },
  {
   "cell_type": "code",
   "execution_count": 78,
   "id": "1726dbbd-0fab-4d2d-afd7-1584a17d3207",
   "metadata": {},
   "outputs": [],
   "source": [
    "device = torch.device(\"cuda\" if torch.cuda.is_available() else \"cpu\")\n",
    "cnn = CNN()\n",
    "cnn = cnn.to(device)"
   ]
  },
  {
   "cell_type": "code",
   "execution_count": 79,
   "id": "e3546589-c2f1-40ac-bb85-1effac7c6ad6",
   "metadata": {},
   "outputs": [],
   "source": [
    "criterion = nn.CrossEntropyLoss().to(device)\n",
    "optimizer = torch.optim.Adam(params=cnn.parameters(), lr=LR)"
   ]
  },
  {
   "cell_type": "code",
   "execution_count": 80,
   "id": "129f0752-0e4f-4e76-bdbf-1f7ea669f5db",
   "metadata": {},
   "outputs": [
    {
     "name": "stderr",
     "output_type": "stream",
     "text": [
      "Epoch 1 Iter 59: loss 1.21615. : 100%|██████████| 59/59 [00:05<00:00,  9.98it/s]\n",
      "Epoch 2 Iter 59: loss 0.47574. : 100%|██████████| 59/59 [00:06<00:00,  9.05it/s]\n",
      "Epoch 3 Iter 59: loss 0.32057. : 100%|██████████| 59/59 [00:06<00:00,  8.53it/s]\n",
      "Epoch 4 Iter 59: loss 0.24209. : 100%|██████████| 59/59 [00:06<00:00,  8.46it/s]\n",
      "Epoch 5 Iter 59: loss 0.18589. : 100%|██████████| 59/59 [00:06<00:00,  8.53it/s]\n",
      "Epoch 6 Iter 59: loss 0.17143. : 100%|██████████| 59/59 [00:06<00:00,  8.89it/s]\n",
      "Epoch 7 Iter 59: loss 0.19829. : 100%|██████████| 59/59 [00:06<00:00,  8.70it/s]\n",
      "Epoch 8 Iter 59: loss 0.16257. : 100%|██████████| 59/59 [00:04<00:00, 12.95it/s]\n",
      "Epoch 9 Iter 59: loss 0.15350. : 100%|██████████| 59/59 [00:04<00:00, 14.30it/s]\n",
      "Epoch 10 Iter 59: loss 0.14093. : 100%|██████████| 59/59 [00:04<00:00, 14.50it/s]\n"
     ]
    }
   ],
   "source": [
    "loss_list = []\n",
    "\n",
    "for epoch in range(NUM_EPOCHS):\n",
    "    progress_bar = tqdm(train_loader, total=len(train_loader))\n",
    "    for i, (imgs, labels) in enumerate(progress_bar):\n",
    "        # using GPU\n",
    "        imgs, labels = imgs.to(device), labels.to(device)\n",
    "    \n",
    "        # forward pass\n",
    "        preds = cnn(imgs)\n",
    "    \n",
    "        # computing error\n",
    "        loss = criterion(preds, labels)\n",
    "        loss_list.append(loss.item())\n",
    "\n",
    "        # removing accumulated gradients\n",
    "        optimizer.zero_grad()\n",
    "    \n",
    "        # backprogating error to compute gradients\n",
    "        loss.backward()\n",
    "    \n",
    "        # updating arameters\n",
    "        optimizer.step()\n",
    "    \n",
    "        if(i % 10 == 0 or i == len(train_loader) - 1):\n",
    "            progress_bar.set_description(f\"Epoch {epoch + 1} Iter {i + 1}: loss {loss.item():.5f}. \")"
   ]
  },
  {
   "cell_type": "code",
   "execution_count": 84,
   "id": "ecad9f61-cfb9-48f4-a8c6-8b6090b54d1b",
   "metadata": {},
   "outputs": [
    {
     "data": {
      "image/png": "[encoded data removed]",
      "text/plain": [
       "<Figure size 1800x500 with 2 Axes>"
      ]
     },
     "metadata": {},
     "output_type": "display_data"
    }
   ],
   "source": [
    "plt.style.use('seaborn')\n",
    "fig, ax = plt.subplots(1,2)\n",
    "fig.set_size_inches(18,5)\n",
    "\n",
    "smooth_loss = smooth(loss_list, 31)\n",
    "ax[0].plot(loss_list, c=\"blue\", label=\"Training Loss\", linewidth=3, alpha=0.5)\n",
    "ax[0].plot(smooth_loss, c=\"red\", label=\"Smoothed Loss\", linewidth=3)\n",
    "ax[0].legend(loc=\"best\")\n",
    "ax[0].set_xlabel(\"Iteration\")\n",
    "ax[0].set_ylabel(\"CE Loss\")\n",
    "ax[0].set_title(\"Training Progress (linearscale)\")\n",
    "\n",
    "ax[1].plot(loss_list, c=\"blue\", label=\"Training Loss\", linewidth=3, alpha=0.5)\n",
    "ax[1].plot(smooth_loss, c=\"red\", label=\"Smoothed Loss\", linewidth=3)\n",
    "ax[1].legend(loc=\"best\")\n",
    "ax[1].set_xlabel(\"Iteration\")\n",
    "ax[1].set_ylabel(\"CE Loss\")\n",
    "ax[1].set_yscale(\"log\")\n",
    "ax[1].set_title(\"Training Progress (logscale)\")\n",
    "\n",
    "plt.show()"
   ]
  },
  {
   "cell_type": "markdown",
   "id": "5dccaf49-c3fe-4b3d-8adb-44db979d2fac",
   "metadata": {},
   "source": [
    "## 4.3.2 CNN Evaluation"
   ]
  },
  {
   "cell_type": "code",
   "execution_count": 85,
   "id": "20c20388-7391-49e9-a787-604ae8bbcddd",
   "metadata": {},
   "outputs": [
    {
     "name": "stderr",
     "output_type": "stream",
     "text": [
      "100%|██████████| 10/10 [00:01<00:00,  8.73it/s]"
     ]
    },
    {
     "name": "stdout",
     "output_type": "stream",
     "text": [
      "Test accuracy: 96.87%\n"
     ]
    },
    {
     "name": "stderr",
     "output_type": "stream",
     "text": [
      "\n"
     ]
    }
   ],
   "source": [
    "n_correct = 0\n",
    "\n",
    "with torch.no_grad():\n",
    "    progress_bar = tqdm(enumerate(eval_loader), total=len(eval_loader))\n",
    "    for i, (imgs, labels) in progress_bar: \n",
    "        #everything needs to be on the same device\n",
    "        imgs = imgs.to(device)\n",
    "        labels = labels.to(device)\n",
    "        \n",
    "        # forward pass\n",
    "        preds = cnn(imgs)\n",
    "        \n",
    "        pred_labels = torch.argmax(torch.softmax(preds, dim=-1), dim=-1)\n",
    "        cur_correct = len(torch.where(pred_labels == labels)[0])\n",
    "        n_correct = n_correct + cur_correct\n",
    "\n",
    "cnn_accuracy = n_correct / len(test_dataset) * 100\n",
    "print(f\"Test accuracy: {round(cnn_accuracy,2)}%\")"
   ]
  },
  {
   "cell_type": "code",
   "execution_count": 86,
   "id": "f0c9a0f7-4483-4bb4-9cc9-9b8f5ab78ffe",
   "metadata": {},
   "outputs": [
    {
     "name": "stdout",
     "output_type": "stream",
     "text": [
      "MLP Test Accuracy: 92.9%\n",
      "CNN Test Accuracy: 96.87%\n"
     ]
    }
   ],
   "source": [
    "print(f\"MLP Test Accuracy: {round(accuracy, 2)}%\")\n",
    "print(f\"CNN Test Accuracy: {round(cnn_accuracy, 2)}%\")"
   ]
  },
  {
   "cell_type": "markdown",
   "id": "9c2497f9-c10e-490f-ad65-7ba96643798a",
   "metadata": {},
   "source": [
    "## Saving and Loading Model Checkpoints"
   ]
  },
  {
   "cell_type": "code",
   "execution_count": 87,
   "id": "d1db49cc-dc83-4736-97d1-f2f382c10fe9",
   "metadata": {},
   "outputs": [],
   "source": [
    "import os"
   ]
  },
  {
   "cell_type": "code",
   "execution_count": 88,
   "id": "c8a23d8e-c20d-4106-8c5d-da2657d7741d",
   "metadata": {},
   "outputs": [],
   "source": [
    "if(not os.path.exists(\"models\")):\n",
    "    os.makedirs(\"models\")\n",
    "savepath = f\"models/checkpoint_epoch_{epoch}.pth\"\n",
    "\n",
    "torch.save({\n",
    "    'epoch': epoch,\n",
    "    'model_state_dict': cnn.state_dict(),\n",
    "    'optimizer_state_dict': optimizer.state_dict(),\n",
    "}, savepath)"
   ]
  },
  {
   "cell_type": "code",
   "execution_count": 90,
   "id": "6acf824b-20f8-4a6b-bf93-1aa31ba331a8",
   "metadata": {},
   "outputs": [],
   "source": [
    "model = CNN()\n",
    "model = model.to(device)\n",
    "optimizer = torch.optim.Adam(model.parameters(), lr=LR)\n",
    "\n",
    "checkpoint = torch.load(savepath)\n",
    "\n",
    "model.load_state_dict(checkpoint['model_state_dict'])\n",
    "optimizer.load_state_dict(checkpoint['optimizer_state_dict'])\n",
    "epoch = checkpoint[\"epoch\"]"
   ]
  },
  {
   "cell_type": "code",
   "execution_count": null,
   "id": "e761cac6-dfc3-4b59-94eb-33abe2822ad0",
   "metadata": {},
   "outputs": [],
   "source": []
  },
  {
   "cell_type": "markdown",
   "id": "59267f20-3c96-4566-b356-67b2a6a8e89f",
   "metadata": {},
   "source": [
    "---"
   ]
  },
  {
   "cell_type": "markdown",
   "id": "ec898aff-74c7-451c-8164-7583792fbe3f",
   "metadata": {},
   "source": [
    "---"
   ]
  },
  {
   "cell_type": "markdown",
   "id": "95e2ff9d-d2ef-4717-b710-526fce80da8f",
   "metadata": {},
   "source": [
    "# Assignment 1"
   ]
  },
  {
   "cell_type": "markdown",
   "id": "bd23dcb8-234f-4f1f-9e5e-1adef2b646b2",
   "metadata": {},
   "source": [
    "- Train and compare the following models on the CIFAR-10 dataset (available in PyTorch). The models should have slightly optimized parameters to try to maximize their performance.\n",
    "  - MLP Classifier\n",
    "  - Simple CNN\n",
    "- Analyze your models:\n",
    "  - Compare the performance of both models: investigate their learning curves (train/eval loss), compare their test accuracy, and compute their confusion matrix\n",
    "  - Visualize some images, along with the predictions from your models. In what images do your models fail more often? Why do you think so?\n",
    "- Mitigate Overfitting\n",
    "  - Train both models with and without DropOut. Compare the results: training and validation loss, accuracy, ...\n",
    "  - Implement and use **your own** custom learning rate warmup and learning rate scheduler criterion to avoid overfitting.<br>\n",
    "    It is not allowed to use PyTorch's schedulers, but you should code your own.<br>\n",
    "    Train **one model** using it and show whether you can mitigate overfitting.\n",
    "\n",
    "<br>\n",
    "\n",
    "- **Extra Point:**\n",
    "  - Train and evaluated ONE of the following:\n",
    "    - MLP-Mixer: https://openreview.net/pdf?id=EI2KOXKdnP\n",
    "    - ConvMixer: https://arxiv.org/abs/2201.09792\n",
    "  - Compare it with your MLP and CNN models\n",
    "  - Does it work better? Why or why not?"
   ]
  },
  {
   "cell_type": "markdown",
   "id": "c368cb5e-d083-4bc7-a4f2-20e549bbf16b",
   "metadata": {},
   "source": [
    "#### **Deadline**: Tuesday 22.04 at 13:59\n",
    "\n",
    "#### **Submission**:\n",
    "  - Create a GitHub repository and give me access to it (my username is angelvillar96)\n",
    "  - Push your assignment solution to GitHub no later than the deadline\n",
    "  - Send me an email once your submission is ready.\n"
   ]
  },
  {
   "cell_type": "markdown",
   "id": "fc250d27-d84c-4e58-a006-ee18c7e6db35",
   "metadata": {},
   "source": [
    "#### **Note on Assignments**\n",
    "\n",
    " - Show your work and results in a Jupyter Notebook\n",
    " - In addition to results (plots, numbers, ...), **write a few sentences interpreting your results**. Why are the good or bad? What could make it work better?...\n",
    " - Feel free to add code to Python files (e.g. `visualizations.py`, `datasets.py`, ...). You can then reuse those files throughout assignments"
   ]
  },
  {
   "cell_type": "markdown",
   "id": "e75fa96a-1fe7-40d0-bc0c-dc2fd4e97992",
   "metadata": {},
   "source": [
    "#### **Note on Plagiarism**\n",
    "\n",
    " - Plagiarism (e.g. copying solutions from other groups) is not acceptable and will not be tolerated.\n",
    " - I will not accept AI-generated (e.g. ChatGPT) solutions for the assignments.\n",
    " - Adapting code from GitHub, StackOverflow, ... is allowed. However, you are required to refer to the original source in a comment:\n",
    " \n",
    " <img src=\"imgs/reference.png\" width=\"50%\">"
   ]
  },
  {
   "cell_type": "markdown",
   "id": "0022a5b1-8cc6-4abd-b2cb-d1180652bf4e",
   "metadata": {},
   "source": [
    "#### **Next Session**: Wednesday 23.04 at 10:00 in room U1.105"
   ]
  },
  {
   "cell_type": "markdown",
   "id": "f321ad04-e6a1-431d-8891-04e0dfc66b42",
   "metadata": {},
   "source": [
    "---"
   ]
  },
  {
   "cell_type": "markdown",
   "id": "44a93cb9-154f-4694-a7d1-1368aa6d345b",
   "metadata": {},
   "source": [
    "# Groups\n",
    "\n",
    "TODO"
   ]
  },
  {
   "cell_type": "markdown",
   "id": "7933e5b4-36e4-410d-af2b-a6c5d98c4562",
   "metadata": {},
   "source": [
    "---"
   ]
  },
  {
   "cell_type": "markdown",
   "id": "2f1b8987-dfd0-43fa-b74b-a750614ee727",
   "metadata": {},
   "source": [
    "# Next Classes\n",
    " - **Session 2**: 23.04\n",
    " - **Session 3**: 07.05\n",
    " - **Session 4**: 21.05\n",
    " - **Session 5**: 04.06\n",
    " - **Session 6**: 18.06\n",
    " - **Session 7**: 02.07\n",
    " - **Session 8 + Project Begins:** 16.07\n",
    " - **Project Submission:** 30.09"
   ]
  },
  {
   "cell_type": "markdown",
   "id": "f062c310-8ded-4107-a493-21e420c4a581",
   "metadata": {},
   "source": [
    "## References:\n",
    " - https://pytorch.org/docs/stable/index.html\n",
    " - https://pytorch.org/docs/stable/autograd.html#\n",
    " - https://pytorch.org/docs/stable/nn.html\n",
    " - http://cs231n.stanford.edu/\n",
    " - http://neuralnetworksanddeeplearning.com/"
   ]
  },
  {
   "cell_type": "markdown",
   "id": "ce05c2ca-fbd9-4791-bd4f-36de9cd9173c",
   "metadata": {},
   "source": [
    "<div class=alert style=\"background-color:#F5F5F5; border-color:#C8C8C8\">\n",
    "    <b>Angel Villar-Corrales</b><br>\n",
    "    <ul>\n",
    "       <li> <b>Email</b>: villar@ais.uni-bonn.de\n",
    "       <li> <b>Website</b>: angelvillarcorrales.com\n",
    "    </ul>\n",
    "</div> "
   ]
  }
 ],
 "metadata": {
  "kernelspec": {
   "display_name": "Python 3",
   "language": "python",
   "name": "python3"
  },
  "language_info": {
   "codemirror_mode": {
    "name": "ipython",
    "version": 3
   },
   "file_extension": ".py",
   "mimetype": "text/x-python",
   "name": "python",
   "nbconvert_exporter": "python",
   "pygments_lexer": "ipython3",
   "version": "3.11.9"
  }
 },
 "nbformat": 4,
 "nbformat_minor": 5
}
