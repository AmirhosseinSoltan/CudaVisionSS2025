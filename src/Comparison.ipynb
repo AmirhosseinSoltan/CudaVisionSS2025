{
 "cells": [
  {
   "cell_type": "code",
   "execution_count": 5,
   "id": "ff4f548d",
   "metadata": {},
   "outputs": [],
   "source": [
    "import torch\n",
    "from torch import nn"
   ]
  },
  {
   "cell_type": "code",
   "execution_count": null,
   "id": "bd4fd9cf",
   "metadata": {},
   "outputs": [],
   "source": []
  },
  {
   "cell_type": "markdown",
   "id": "4a98b097",
   "metadata": {},
   "source": [
    "# _____________________________________________________________________________________________________________________\n",
    "# <center>**Analysis and Comparison**</center>\n",
    "# \n",
    "# \n",
    "# "
   ]
  },
  {
   "cell_type": "markdown",
   "id": "48a52ae3",
   "metadata": {},
   "source": [
    "##  **MLP**"
   ]
  },
  {
   "cell_type": "markdown",
   "id": "ae923e5c",
   "metadata": {},
   "source": [
    "#### Haha we changed the code for model architecture to go from experiment 1 to experiment 2 and the architecture for experiment 1 is not saved anywhere; the weights are though. For reconstructing the model for experiment 1, I will proceed by guessing it from layer dimensions."
   ]
  },
  {
   "cell_type": "markdown",
   "id": "fbf96bec",
   "metadata": {},
   "source": [
    "### **Experiment 1**:"
   ]
  },
  {
   "cell_type": "code",
   "execution_count": 6,
   "id": "d9f7851b",
   "metadata": {},
   "outputs": [
    {
     "name": "stdout",
     "output_type": "stream",
     "text": [
      "layers.0.weight torch.Size([1024, 3072])\n",
      "layers.0.bias torch.Size([1024])\n",
      "layers.2.weight torch.Size([10, 1024])\n",
      "layers.2.bias torch.Size([10])\n"
     ]
    }
   ],
   "source": [
    "checkpoints_1 = torch.load(\"./models/checkpoint_Exp1.pth\")\n",
    "\n",
    "for key in checkpoints_1['model_state_dict'].keys():\n",
    "    print(key, checkpoints_1['model_state_dict'][key].shape)"
   ]
  },
  {
   "cell_type": "markdown",
   "id": "0bc0941c",
   "metadata": {},
   "source": [
    "#### Ok clear now. And layer 1 is ReLu so no weights and biases there. For experiment 1, I will have to reconstruct its MLP class."
   ]
  },
  {
   "cell_type": "code",
   "execution_count": 7,
   "id": "01954d78",
   "metadata": {},
   "outputs": [],
   "source": [
    "state_dict = checkpoints_1['model_state_dict']"
   ]
  },
  {
   "cell_type": "code",
   "execution_count": 8,
   "id": "5eab434f",
   "metadata": {},
   "outputs": [],
   "source": [
    "class MLP1(nn.Module):\n",
    "    \"\"\"\n",
    "    MLP composed of two fully connected layers.\n",
    "     - First layer takes pixel values and maps them to a hidden dimension\n",
    "     - Nonlinear activation\n",
    "     - Second layer maps from hidden dimension to number of classes, predicting a score for each of the classes\n",
    "    \"\"\"\n",
    "    def __init__(self, input_dim=3072, hidden_dim=1024, output_dim=10):\n",
    "        \"\"\" Model initalizer \"\"\"\n",
    "        super().__init__()\n",
    "        self.layers = nn.Sequential(\n",
    "                nn.Linear(in_features=input_dim, out_features=hidden_dim),\n",
    "                nn.ReLU(),\n",
    "                nn.Linear(in_features=hidden_dim, out_features=output_dim)\n",
    "            )\n",
    "        \n",
    "    def forward(self, x):\n",
    "        \"\"\" Forward pass through the model\"\"\"\n",
    "        assert len(x.shape) == 2, f\"ERROR! Shape of input must be 2D (b_size, dim)\"\n",
    "        pred = self.layers(x)\n",
    "        return pred"
   ]
  },
  {
   "cell_type": "code",
   "execution_count": 9,
   "id": "62b48863",
   "metadata": {},
   "outputs": [
    {
     "data": {
      "text/plain": [
       "<All keys matched successfully>"
      ]
     },
     "execution_count": 9,
     "metadata": {},
     "output_type": "execute_result"
    }
   ],
   "source": [
    "model_1 = MLP1()\n",
    "model_1.load_state_dict(state_dict=state_dict)"
   ]
  },
  {
   "cell_type": "code",
   "execution_count": null,
   "id": "4b880640",
   "metadata": {},
   "outputs": [],
   "source": []
  },
  {
   "cell_type": "markdown",
   "id": "a0c5e75f",
   "metadata": {},
   "source": [
    "### **Experiment 2:**"
   ]
  },
  {
   "cell_type": "code",
   "execution_count": null,
   "id": "f9732fa9",
   "metadata": {},
   "outputs": [],
   "source": []
  },
  {
   "cell_type": "markdown",
   "id": "6db82e5c",
   "metadata": {},
   "source": [
    "## **CONV**"
   ]
  }
 ],
 "metadata": {
  "kernelspec": {
   "display_name": "Python 3",
   "language": "python",
   "name": "python3"
  },
  "language_info": {
   "codemirror_mode": {
    "name": "ipython",
    "version": 3
   },
   "file_extension": ".py",
   "mimetype": "text/x-python",
   "name": "python",
   "nbconvert_exporter": "python",
   "pygments_lexer": "ipython3",
   "version": "3.8.10"
  }
 },
 "nbformat": 4,
 "nbformat_minor": 5
}
