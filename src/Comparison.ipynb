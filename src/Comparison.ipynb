{
 "cells": [
  {
   "cell_type": "code",
   "execution_count": 27,
   "id": "ff4f548d",
   "metadata": {},
   "outputs": [],
   "source": [
    "import torch\n",
    "from torch import nn\n",
    "from tqdm import tqdm\n",
    "import torchvision.transforms as transforms\n",
    "import torchvision.datasets as datasets\n",
    "device = torch.device(\"cuda\" if torch.cuda.is_available() else \"cpu\")\n"
   ]
  },
  {
   "cell_type": "code",
   "execution_count": 28,
   "id": "34265974",
   "metadata": {},
   "outputs": [
    {
     "name": "stdout",
     "output_type": "stream",
     "text": [
      "Files already downloaded and verified\n"
     ]
    }
   ],
   "source": [
    "training_config = {'BATCH_SIZE' : 1024,\n",
    "                   'lr' : 1e-4,\n",
    "                   'epochs' : 100,\n",
    "                   'Experiment_name': 'Exp4'\n",
    "                   }\n",
    "\n",
    "test_dataset = datasets.CIFAR10(root='./data', train=False, transform=transforms.ToTensor(), download=True)\n",
    "\n",
    "eval_loader =  torch.utils.data.DataLoader(\n",
    "        dataset=test_dataset,\n",
    "        batch_size=training_config['BATCH_SIZE'],\n",
    "        shuffle=False,\n",
    "        drop_last=True\n",
    "    )"
   ]
  },
  {
   "cell_type": "code",
   "execution_count": 29,
   "id": "219c4d43",
   "metadata": {},
   "outputs": [],
   "source": [
    "def evaluate (model : nn.Module, dataloader ):\n",
    "    print(\"##### EVALUATION ... ####\")\n",
    "    model.eval()\n",
    "    n_correct = 0\n",
    "\n",
    "    with torch.no_grad():\n",
    "        progress_bar = tqdm(enumerate(dataloader), total=len(dataloader))\n",
    "        for i, (imgs, labels) in progress_bar: \n",
    "            imgs, labels = imgs.to(device), labels.to(device)\n",
    "\n",
    "            if model == model_1 or model == model_2:\n",
    "                flattened_imgs = imgs.flatten(start_dim=1)\n",
    "                preds = model(flattened_imgs)\n",
    "            else:\n",
    "                preds = model(imgs)\n",
    "\n",
    "            pred_labels = torch.argmax(torch.softmax(preds, dim=-1), dim=-1)\n",
    "            cur_correct = len(torch.where(pred_labels == labels)[0])\n",
    "            n_correct = n_correct + cur_correct\n",
    "\n",
    "    accuracy = n_correct / len(test_dataset) * 100\n",
    "    print(f\"Test accuracy: {round(accuracy,2)}%\") "
   ]
  },
  {
   "cell_type": "markdown",
   "id": "4a98b097",
   "metadata": {},
   "source": [
    "# _____________________________________________________________________________________________________________________\n",
    "# <center>**Analysis and Comparison**</center>\n",
    "# \n",
    "# \n",
    "# "
   ]
  },
  {
   "cell_type": "markdown",
   "id": "48a52ae3",
   "metadata": {},
   "source": [
    "##  **MLP**"
   ]
  },
  {
   "cell_type": "markdown",
   "id": "ae923e5c",
   "metadata": {},
   "source": [
    "#### Haha we changed the code for model architecture to go from experiment 1 to experiment 2 and the architecture for experiment 1 is not saved anywhere; the weights are though. For reconstructing the model for experiment 1, I will proceed by guessing it from layer dimensions."
   ]
  },
  {
   "cell_type": "markdown",
   "id": "fbf96bec",
   "metadata": {},
   "source": [
    "### **Experiment 1**:"
   ]
  },
  {
   "cell_type": "code",
   "execution_count": 32,
   "id": "d9f7851b",
   "metadata": {},
   "outputs": [
    {
     "name": "stdout",
     "output_type": "stream",
     "text": [
      "network.0.weight torch.Size([32, 3, 3, 3])\n",
      "network.0.bias torch.Size([32])\n",
      "network.2.weight torch.Size([64, 32, 3, 3])\n",
      "network.2.bias torch.Size([64])\n",
      "network.5.weight torch.Size([128, 64, 3, 3])\n",
      "network.5.bias torch.Size([128])\n",
      "network.7.weight torch.Size([128, 128, 3, 3])\n",
      "network.7.bias torch.Size([128])\n",
      "network.10.weight torch.Size([256, 128, 3, 3])\n",
      "network.10.bias torch.Size([256])\n",
      "network.12.weight torch.Size([256, 256, 3, 3])\n",
      "network.12.bias torch.Size([256])\n",
      "network.16.weight torch.Size([1024, 4096])\n",
      "network.16.bias torch.Size([1024])\n",
      "network.18.weight torch.Size([512, 1024])\n",
      "network.18.bias torch.Size([512])\n",
      "network.20.weight torch.Size([10, 512])\n",
      "network.20.bias torch.Size([10])\n"
     ]
    }
   ],
   "source": [
    "checkpoints_1 = torch.load(\"./models/Exp4/checkpoint_Exp4.pth\")\n",
    "\n",
    "for key in checkpoints_1['model_state_dict'].keys():\n",
    "    print(key, checkpoints_1['model_state_dict'][key].shape)"
   ]
  },
  {
   "cell_type": "markdown",
   "id": "0bc0941c",
   "metadata": {},
   "source": [
    "#### Ok clear now. And layer 1 is ReLu so no weights and biases there. For experiment 1, I will have to reconstruct its MLP class."
   ]
  },
  {
   "cell_type": "code",
   "execution_count": null,
   "id": "01954d78",
   "metadata": {},
   "outputs": [],
   "source": [
    "state_dict = checkpoints_1['model_state_dict']"
   ]
  },
  {
   "cell_type": "code",
   "execution_count": null,
   "id": "5eab434f",
   "metadata": {},
   "outputs": [],
   "source": [
    "class MLP1(nn.Module):\n",
    "    \"\"\"\n",
    "    MLP composed of two fully connected layers.\n",
    "     - First layer takes pixel values and maps them to a hidden dimension\n",
    "     - Nonlinear activation\n",
    "     - Second layer maps from hidden dimension to number of classes, predicting a score for each of the classes\n",
    "    \"\"\"\n",
    "    def __init__(self, input_dim=3072, hidden_dim=1024, output_dim=10):\n",
    "        \"\"\" Model initalizer \"\"\"\n",
    "        super().__init__()\n",
    "        self.layers = nn.Sequential(\n",
    "                nn.Linear(in_features=input_dim, out_features=hidden_dim),\n",
    "                nn.ReLU(),\n",
    "                nn.Linear(in_features=hidden_dim, out_features=output_dim)\n",
    "            )\n",
    "        \n",
    "    def forward(self, x):\n",
    "        \"\"\" Forward pass through the model\"\"\"\n",
    "        assert len(x.shape) == 2, f\"ERROR! Shape of input must be 2D (b_size, dim)\"\n",
    "        pred = self.layers(x)\n",
    "        return pred"
   ]
  },
  {
   "cell_type": "code",
   "execution_count": null,
   "id": "62b48863",
   "metadata": {},
   "outputs": [
    {
     "data": {
      "text/plain": [
       "<All keys matched successfully>"
      ]
     },
     "execution_count": 21,
     "metadata": {},
     "output_type": "execute_result"
    }
   ],
   "source": [
    "model_1 = MLP1().to(device)\n",
    "model_1.load_state_dict(state_dict=state_dict)"
   ]
  },
  {
   "cell_type": "code",
   "execution_count": null,
   "id": "4b880640",
   "metadata": {},
   "outputs": [
    {
     "name": "stdout",
     "output_type": "stream",
     "text": [
      "##### EVALUATION ... ####\n"
     ]
    },
    {
     "name": "stderr",
     "output_type": "stream",
     "text": [
      "100%|██████████| 9/9 [00:00<00:00, 14.52it/s]"
     ]
    },
    {
     "name": "stdout",
     "output_type": "stream",
     "text": [
      "Test accuracy: 53844.44%\n"
     ]
    },
    {
     "name": "stderr",
     "output_type": "stream",
     "text": [
      "\n"
     ]
    }
   ],
   "source": [
    "evaluate(model= model_1, dataloader= eval_loader)"
   ]
  },
  {
   "cell_type": "markdown",
   "id": "a0c5e75f",
   "metadata": {},
   "source": [
    "### **Experiment 2:**"
   ]
  },
  {
   "cell_type": "code",
   "execution_count": null,
   "id": "f9732fa9",
   "metadata": {},
   "outputs": [],
   "source": []
  },
  {
   "cell_type": "markdown",
   "id": "6db82e5c",
   "metadata": {},
   "source": [
    "## **CONV**"
   ]
  }
 ],
 "metadata": {
  "kernelspec": {
   "display_name": "Python 3",
   "language": "python",
   "name": "python3"
  },
  "language_info": {
   "codemirror_mode": {
    "name": "ipython",
    "version": 3
   },
   "file_extension": ".py",
   "mimetype": "text/x-python",
   "name": "python",
   "nbconvert_exporter": "python",
   "pygments_lexer": "ipython3",
   "version": "3.8.10"
  }
 },
 "nbformat": 4,
 "nbformat_minor": 5
}
