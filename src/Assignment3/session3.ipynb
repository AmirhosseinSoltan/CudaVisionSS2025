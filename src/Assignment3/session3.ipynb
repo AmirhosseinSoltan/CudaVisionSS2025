{
 "cells": [
  {
   "cell_type": "markdown",
   "metadata": {},
   "source": [
    "# Lab Vision Systems: Session 3"
   ]
  },
  {
   "cell_type": "markdown",
   "metadata": {},
   "source": [
    "# Today:\n",
    "\n",
    "### 1: Solution Assignment 2\n",
    "### 2: Recurrent Neural Networks (RNNs)\n",
    "### 3: Training your RNN in PyTorch"
   ]
  },
  {
   "cell_type": "code",
   "execution_count": 1,
   "metadata": {},
   "outputs": [],
   "source": [
    "import torch"
   ]
  },
  {
   "cell_type": "code",
   "execution_count": 2,
   "metadata": {},
   "outputs": [
    {
     "data": {
      "text/plain": [
       "True"
      ]
     },
     "execution_count": 2,
     "metadata": {},
     "output_type": "execute_result"
    }
   ],
   "source": [
    "torch.cuda.is_available()"
   ]
  },
  {
   "cell_type": "markdown",
   "metadata": {},
   "source": [
    "# 0. Some Comments"
   ]
  },
  {
   "cell_type": "markdown",
   "metadata": {},
   "source": [
    "### CutMix and MixUp\n"
   ]
  },
  {
   "cell_type": "markdown",
   "metadata": {},
   "source": [
    "### &emsp;&emsp;&emsp;&emsp;&emsp;&emsp;&emsp;&emsp;&emsp;&emsp;&emsp;&emsp; **CutMix** &emsp;&emsp;&emsp;&emsp;&emsp;&emsp;&emsp;&emsp;&emsp;&emsp;&emsp;&emsp;&emsp;&emsp;&emsp;&emsp;&emsp;&emsp;&emsp;&emsp;&emsp;&emsp;&emsp;&emsp;&emsp;&emsp;&emsp;&emsp;&emsp;&emsp;&emsp;&emsp; **MixUp**\n",
    "\n",
    "<img src=\"./imgs/cutmix.png\" width=49%> <img src=\"./imgs/mixup.png\" width=49%>"
   ]
  },
  {
   "cell_type": "markdown",
   "metadata": {},
   "source": [
    "---"
   ]
  },
  {
   "cell_type": "markdown",
   "metadata": {},
   "source": [
    "# 1. Solution Assignment 3\n",
    "\n",
    "Presented by: Max and Elif"
   ]
  },
  {
   "cell_type": "markdown",
   "metadata": {},
   "source": [
    "#### Some Interesting Examples"
   ]
  },
  {
   "cell_type": "markdown",
   "metadata": {},
   "source": [
    "---"
   ]
  },
  {
   "cell_type": "markdown",
   "metadata": {},
   "source": [
    "<img src=\"./imgs/fun_1.png\" width=20%><img src=\"./imgs/fun_2.png\" width=20%><img src=\"./imgs/fun_3.png\" width=20%>"
   ]
  },
  {
   "cell_type": "markdown",
   "metadata": {},
   "source": [
    "<img src=\"./imgs/fun_5.png\" width=40%> <img src=\"./imgs/fun_4.png\" width=29%>"
   ]
  },
  {
   "cell_type": "markdown",
   "metadata": {},
   "source": [
    "# 2. Recurrent Neural Networks"
   ]
  },
  {
   "cell_type": "markdown",
   "metadata": {},
   "source": [
    "# 3. Motion Classification with RNNs"
   ]
  },
  {
   "cell_type": "markdown",
   "metadata": {},
   "source": [
    "  ####  1. Embed each frame into a single vector embedding\n",
    "  ####  2. Sequentially feed embeddings to RNN \n",
    "  ####  3. Classify RNN output with a fully-connected layer to estimate the motion direction"
   ]
  },
  {
   "cell_type": "markdown",
   "metadata": {},
   "source": [
    "\n",
    "<img src=\"./imgs/gif_00.gif\" width=15%> <img src=\"./imgs/gif_01.gif\" width=15%> <img src=\"./imgs/gif_02.gif\" width=15%> <img src=\"./imgs/gif_03.gif\" width=15%> <img src=\"./imgs/gif_04.gif\" width=15%>"
   ]
  },
  {
   "cell_type": "markdown",
   "metadata": {},
   "source": [
    "<img src=\"./imgs/pipeline.png\">"
   ]
  },
  {
   "cell_type": "code",
   "execution_count": 3,
   "metadata": {},
   "outputs": [],
   "source": [
    "import os\n",
    "from tqdm import tqdm\n",
    "import numpy as np\n",
    "import matplotlib.pyplot as plt\n",
    "\n",
    "import torch\n",
    "import torch.nn as nn\n",
    "import torch.nn.functional as F\n",
    "import torchvision\n",
    "from torchvision import datasets, models, transforms"
   ]
  },
  {
   "cell_type": "markdown",
   "metadata": {},
   "source": [
    "## Creating Dataset"
   ]
  },
  {
   "cell_type": "code",
   "execution_count": 4,
   "metadata": {},
   "outputs": [],
   "source": [
    "class MotionDataset:\n",
    "    \"\"\"\n",
    "    Dataset for motion classification\n",
    "    \"\"\"\n",
    "    \n",
    "    LABELS = {\n",
    "        0: \"down\",\n",
    "        1: \"up\",\n",
    "        2: \"right\",\n",
    "        3: \"left\"\n",
    "    }\n",
    "    \n",
    "    def __init__(self, train, transform, img_size=(64, 64), num_frames=5, resize=1, move=2):\n",
    "        \"\"\" \"\"\" \n",
    "        self.img_size = img_size\n",
    "        self.num_frames = num_frames\n",
    "        self.resize = resize\n",
    "        self.move = move\n",
    "        self.mnist_db = datasets.MNIST(root='./data', train=train, transform=transform, download=True)\n",
    "        return\n",
    "\n",
    "    def __len__(self):\n",
    "        \"\"\" \"\"\"\n",
    "        return len(self.mnist_db)\n",
    "    \n",
    "    def __getitem__(self, i):\n",
    "        \"\"\" Creating a random sequence of a moving digit\"\"\"\n",
    "        # sampling digit\n",
    "        digit = self.mnist_db[i][0]\n",
    "        digit = F.interpolate(digit.unsqueeze(0), scale_factor=1/self.resize)[0]\n",
    "        digitH, digitW = digit.shape[-2], digit.shape[-1]\n",
    "        \n",
    "        # creating canvas\n",
    "        canvasH, canvasW = self.img_size\n",
    "        canvas = torch.zeros(self.num_frames, 1, canvasH, canvasW)\n",
    "        start_pos_x = np.random.randint(3, canvasH - 3 - digitH)\n",
    "        start_pos_y = np.random.randint(3, canvasH - 3 - digitH)\n",
    "        start_pos = torch.tensor([start_pos_y, start_pos_x])\n",
    "        \n",
    "        # moving parameters\n",
    "        n = np.random.rand()\n",
    "        \n",
    "        if n < 0.25:\n",
    "            move = torch.tensor([self.move, 0])\n",
    "            label = 0\n",
    "        elif n < 0.5:\n",
    "            move = torch.tensor([-self.move, 0])\n",
    "            label = 1\n",
    "        elif n < 0.75:\n",
    "            move = torch.tensor([0, self.move])\n",
    "            label = 2\n",
    "        else:\n",
    "            move = torch.tensor([0, -self.move])\n",
    "            label = 3\n",
    "        \n",
    "        # updating positions and creating video\n",
    "        positions = []\n",
    "        for i in range(self.num_frames):\n",
    "            if i == 0:\n",
    "                cur_pos = start_pos\n",
    "            else:\n",
    "                cur_pos = positions[-1] + move\n",
    "                if cur_pos[0] < 0 or cur_pos[0] >= canvasH - digitH or \\\n",
    "                   cur_pos[1] < 0 or cur_pos[1] >= canvasW - digitW:  # avoid going out of bounds\n",
    "                    cur_pos = positions[-1]\n",
    "            positions.append(cur_pos)\n",
    "            canvas[i, :, cur_pos[0]:cur_pos[0]+digitH, cur_pos[1]:cur_pos[1] + digitW] = digit\n",
    "        \n",
    "        return canvas, label\n",
    "    "
   ]
  },
  {
   "cell_type": "code",
   "execution_count": 5,
   "metadata": {},
   "outputs": [],
   "source": [
    "def visualize_sequence(sequence,  suptitle=\"\", add_title=True, add_axis=False, n_cols=5, size=1.5,  vmax=1, vmin=0, **kwargs):\n",
    "    \"\"\" Visualizing a grid with several images/frames \"\"\"\n",
    "    n_frames = sequence.shape[0]\n",
    "    n_rows = int(np.ceil(n_frames / n_cols))\n",
    "\n",
    "    fig, ax = plt.subplots(n_rows, n_cols)\n",
    "    fig.set_size_inches(size * n_cols, size + 0.5)\n",
    "    fig.suptitle(suptitle)\n",
    " \n",
    "    ims = []\n",
    "    fs = []\n",
    "    for i in range(n_frames):\n",
    "        a = ax[i]\n",
    "        f = sequence[i, 0].cpu().detach()\n",
    "        a.imshow(f, vmin=vmin, vmax=vmax, **kwargs)\n",
    "        if add_title:\n",
    "            a.set_title(f\"Frame {i}\", fontsize=12)\n",
    "        if not add_axis:\n",
    "            a.set_yticks([])\n",
    "            a.set_xticks([])\n",
    "    plt.tight_layout()\n",
    "    return"
   ]
  },
  {
   "cell_type": "code",
   "execution_count": 6,
   "metadata": {},
   "outputs": [],
   "source": [
    "train_dataset = MotionDataset(\n",
    "        train=True,\n",
    "        transform=transforms.ToTensor(),\n",
    "        img_size=(32, 32),\n",
    "        num_frames=4,\n",
    "        resize=2\n",
    "    )\n",
    "\n",
    "test_dataset = MotionDataset(\n",
    "        train=False,\n",
    "        transform=transforms.ToTensor(),\n",
    "        img_size=(32, 32),\n",
    "        num_frames=4,\n",
    "        resize=2\n",
    "    )"
   ]
  },
  {
   "cell_type": "code",
   "execution_count": 8,
   "metadata": {},
   "outputs": [
    {
     "name": "stdout",
     "output_type": "stream",
     "text": [
      "torch.Size([4, 1, 32, 32])\n"
     ]
    }
   ],
   "source": [
    "frames, label = train_dataset[0]\n",
    "print(frames.shape)"
   ]
  },
  {
   "cell_type": "code",
   "execution_count": 9,
   "metadata": {},
   "outputs": [
    {
     "data": {
      "image/png": "[encoded data removed]",
      "text/plain": [
       "<Figure size 600x200 with 4 Axes>"
      ]
     },
     "metadata": {},
     "output_type": "display_data"
    },
    {
     "data": {
      "image/png": "[encoded data removed]",
      "text/plain": [
       "<Figure size 600x200 with 4 Axes>"
      ]
     },
     "metadata": {},
     "output_type": "display_data"
    },
    {
     "data": {
      "image/png": "[encoded data removed]",
      "text/plain": [
       "<Figure size 600x200 with 4 Axes>"
      ]
     },
     "metadata": {},
     "output_type": "display_data"
    },
    {
     "data": {
      "image/png": "[encoded data removed]",
      "text/plain": [
       "<Figure size 600x200 with 4 Axes>"
      ]
     },
     "metadata": {},
     "output_type": "display_data"
    }
   ],
   "source": [
    "for i in range(4):\n",
    "    frames, label = train_dataset[i]\n",
    "    visualize_sequence(frames, n_cols=4, cmap=\"gray\", suptitle=f\"Class={label} ({train_dataset.LABELS[label]})\")"
   ]
  },
  {
   "cell_type": "code",
   "execution_count": 10,
   "metadata": {},
   "outputs": [],
   "source": [
    "# Fitting data loaders for iterating\n",
    "B_SIZE = 256\n",
    "\n",
    "train_loader = torch.utils.data.DataLoader(dataset=train_dataset, \n",
    "                                           batch_size=B_SIZE, \n",
    "                                           shuffle=True) \n",
    "test_loader = torch.utils.data.DataLoader(dataset=test_dataset, \n",
    "                                          batch_size=B_SIZE,\n",
    "                                          shuffle=False)"
   ]
  },
  {
   "cell_type": "markdown",
   "metadata": {},
   "source": [
    "## Model\n",
    "\n",
    "#### **Important:** PyTorch includes nn.LSTM() and nn.LSTMCell(). These two are inherently different!\n",
    "\n",
    "See https://pytorch.org/docs/stable/nn.html#recurrent-layers"
   ]
  },
  {
   "cell_type": "code",
   "execution_count": 11,
   "metadata": {},
   "outputs": [],
   "source": [
    "class SequentialClassifier(nn.Module):\n",
    "    \"\"\" \n",
    "    Sequential classifier. Embedded images are fed to a RNN\n",
    "    \n",
    "    Args:\n",
    "    -----\n",
    "    emb_dim: integer \n",
    "        dimensionality of the vectors fed to the LSTM\n",
    "    hidden_dim: integer\n",
    "        dimensionality of the states in the cell\n",
    "    num_layers: integer\n",
    "        number of stacked LSTMS\n",
    "    mode: string\n",
    "        intialization of the states\n",
    "    \"\"\"\n",
    "    \n",
    "    def __init__(self, emb_dim, hidden_dim, num_layers=1, mode=\"zeros\"):\n",
    "        \"\"\" Module initializer \"\"\"\n",
    "        assert mode in [\"zeros\", \"random\"]\n",
    "        super().__init__()\n",
    "        self.hidden_dim =  hidden_dim\n",
    "        self.num_layers = num_layers\n",
    "        self.mode = mode\n",
    "        \n",
    "        # for embedding rows into vector representations\n",
    "        self.encoder = nn.Sequential(\n",
    "                nn.Conv2d(1, 64, 3, 1, 1), nn.ReLU(), nn.MaxPool2d(2),\n",
    "                nn.Conv2d(64, 128, 3, 1, 1), nn.ReLU(), nn.MaxPool2d(2),\n",
    "                nn.Conv2d(128, emb_dim, 3, 1, 1),\n",
    "                nn.AdaptiveAvgPool2d((1, 1))\n",
    "            )\n",
    "        \n",
    "        # LSTM model\n",
    "        self.lstm = nn.LSTM(\n",
    "                input_size=emb_dim,\n",
    "                hidden_size=hidden_dim,\n",
    "                num_layers=num_layers,\n",
    "                batch_first=True\n",
    "            )\n",
    "        \n",
    "        # FC-classifier\n",
    "        self.classifier = nn.Linear(in_features=hidden_dim, out_features=4)\n",
    "        \n",
    "        return\n",
    "    \n",
    "    \n",
    "    def forward(self, x):\n",
    "        \"\"\" Forward pass through model \"\"\"\n",
    "        \n",
    "        b_size, num_frames, n_channels, n_rows, n_cols = x.shape\n",
    "        h, c = self.init_state(b_size=b_size, device=x.device) \n",
    "        \n",
    "        # encoding all images in parallel rows\n",
    "        x = x.view(b_size * num_frames, n_channels, n_rows, n_cols)\n",
    "        embeddings = self.encoder(x)  # (b*T, C, H, W)  --> (B * T, emb_dim)\n",
    "        embeddings = embeddings.reshape(b_size, num_frames, -1)\n",
    "\n",
    "        # feeding LSTM. Does everything for you\n",
    "        lstm_out, (h_out, c_out) = self.lstm(embeddings, (h, c)) \n",
    "        \n",
    "        # classifying\n",
    "        y = self.classifier(lstm_out[:, -1, :])  # feeding only output at last layer\n",
    "        \n",
    "        return y\n",
    "    \n",
    "        \n",
    "    def init_state(self, b_size, device):\n",
    "        \"\"\" Initializing hidden and cell state \"\"\"\n",
    "        if(self.mode == \"zeros\"):\n",
    "            h = torch.zeros(self.num_layers, b_size, self.hidden_dim)\n",
    "            c = torch.zeros(self.num_layers, b_size, self.hidden_dim)\n",
    "        elif(self.mode == \"random\"):\n",
    "            h = torch.randn(self.num_layers, b_size, self.hidden_dim)\n",
    "            c = torch.randn(self.num_layers, b_size, self.hidden_dim)\n",
    "        h = h.to(device)\n",
    "        c = c.to(device)\n",
    "        return h, c"
   ]
  },
  {
   "cell_type": "code",
   "execution_count": 12,
   "metadata": {},
   "outputs": [],
   "source": [
    "class SequentialClassifierWithCells(nn.Module):\n",
    "    \"\"\" \n",
    "    Sequential classifier. Embedded images are fed to a RNN\n",
    "    Same as above, but using LSTMCells instead of the LSTM object\n",
    "    \n",
    "    Args:\n",
    "    -----\n",
    "    emb_dim: integer \n",
    "        dimensionality of the vectors fed to the LSTM\n",
    "    hidden_dim: integer\n",
    "        dimensionality of the states in the cell\n",
    "    num_layers: integer\n",
    "        number of stacked LSTMS\n",
    "    mode: string\n",
    "        intialization of the states\n",
    "    \"\"\"\n",
    "    \n",
    "    def __init__(self, emb_dim, hidden_dim, num_layers=1, mode=\"zeros\"):\n",
    "        \"\"\" Module initializer \"\"\"\n",
    "        assert mode in [\"zeros\", \"random\"]\n",
    "        super().__init__()\n",
    "        self.hidden_dim =  hidden_dim\n",
    "        self.num_layers = num_layers\n",
    "        self.mode = mode\n",
    "\n",
    "        # for embedding rows into vector representations\n",
    "        self.encoder = nn.Sequential(\n",
    "                nn.Conv2d(1, 64, 3, 1, 1), nn.ReLU(), nn.MaxPool2d(2),\n",
    "                nn.Conv2d(64, 128, 3, 1, 1), nn.ReLU(), nn.MaxPool2d(2),\n",
    "                nn.Conv2d(128, emb_dim, 3, 1, 1),\n",
    "                nn.AdaptiveAvgPool2d((1, 1))\n",
    "            )\n",
    "        \n",
    "        # LSTM model       \n",
    "        lstms = []\n",
    "        for i in range(num_layers):\n",
    "            in_size = emb_dim if i == 0 else hidden_dim\n",
    "            lstms.append( nn.LSTMCell(input_size=in_size, hidden_size=hidden_dim) )\n",
    "        self.lstm = nn.ModuleList(lstms)\n",
    "        \n",
    "        # FC-classifier\n",
    "        self.classifier = nn.Linear(in_features=hidden_dim, out_features=4)\n",
    "        \n",
    "        return\n",
    "    \n",
    "    \n",
    "    def forward(self, x):\n",
    "        \"\"\" Forward pass through model \"\"\"\n",
    "        \n",
    "        b_size, num_frames, n_channels, n_rows, n_cols = x.shape\n",
    "        h, c = self.init_state(b_size=b_size, device=x.device) \n",
    "        \n",
    "        # embedding rows\n",
    "        x = x.view(b_size * num_frames, n_channels, n_rows, n_cols)\n",
    "        embeddings = self.encoder(x)\n",
    "        embeddings = embeddings.reshape(b_size, num_frames, -1)\n",
    "        \n",
    "        # iterating over sequence length\n",
    "        lstm_out = []\n",
    "        for i in range(embeddings.shape[1]):  # iterate over time steps\n",
    "            lstm_input = embeddings[:, i, :]\n",
    "            # iterating over LSTM Cells\n",
    "            for j, lstm_cell in enumerate(self.lstm):\n",
    "                h[j], c[j] = lstm_cell(lstm_input, (h[j], c[j]))\n",
    "                lstm_input = h[j]\n",
    "            lstm_out.append(lstm_input)\n",
    "        lstm_out = torch.stack(lstm_out, dim=1)\n",
    "            \n",
    "        # classifying\n",
    "        y = self.classifier(lstm_out[:, -1, :])  # feeding only output at last layer\n",
    "        \n",
    "        return y\n",
    "    \n",
    "        \n",
    "    def init_state(self, b_size, device):\n",
    "        \"\"\" Initializing hidden and cell state \"\"\"\n",
    "        if(self.mode == \"zeros\"):\n",
    "            h = [torch.zeros(b_size, self.hidden_dim).to(device) for _ in range(self.num_layers)]\n",
    "            c = [torch.zeros(b_size, self.hidden_dim).to(device) for _ in range(self.num_layers)]\n",
    "        elif(self.mode == \"random\"):\n",
    "            h = [torch.zeros(b_size, self.hidden_dim).to(device) for _ in range(self.num_layers)]\n",
    "            c = [torch.zeros(b_size, self.hidden_dim).to(device) for _ in range(self.num_layers)]\n",
    "        return h, c"
   ]
  },
  {
   "cell_type": "code",
   "execution_count": null,
   "metadata": {},
   "outputs": [],
   "source": []
  },
  {
   "cell_type": "markdown",
   "metadata": {},
   "source": [
    "## Training Code "
   ]
  },
  {
   "cell_type": "code",
   "execution_count": 13,
   "metadata": {},
   "outputs": [],
   "source": [
    "def train_epoch(model, train_loader, optimizer, criterion, epoch, device):\n",
    "    \"\"\" Training a model for one epoch \"\"\"\n",
    "    \n",
    "    loss_list = []\n",
    "    progress_bar = tqdm(enumerate(train_loader), total=len(train_loader))\n",
    "    for i, (images, labels) in progress_bar:\n",
    "        images = images.to(device)\n",
    "        labels = labels.to(device)\n",
    "        \n",
    "        # Clear gradients w.r.t. parameters\n",
    "        optimizer.zero_grad()\n",
    "         \n",
    "        # Forward pass to get output/logits\n",
    "        outputs = model(images)\n",
    "         \n",
    "        # Calculate Loss: softmax --> cross entropy loss\n",
    "        loss = criterion(outputs, labels)\n",
    "        loss_list.append(loss.item())\n",
    "         \n",
    "        # Getting gradients w.r.t. parameters\n",
    "        loss.backward()\n",
    "         \n",
    "        # Updating parameters\n",
    "        optimizer.step()\n",
    "        \n",
    "        progress_bar.set_description(f\"Epoch {epoch+1} Iter {i+1}: loss {loss.item():.5f}. \")\n",
    "        \n",
    "    mean_loss = np.mean(loss_list)\n",
    "    return mean_loss, loss_list\n",
    "\n",
    "\n",
    "@torch.no_grad()\n",
    "def eval_model(model, eval_loader, criterion, device):\n",
    "    \"\"\" Evaluating the model for either validation or test \"\"\"\n",
    "    correct = 0\n",
    "    total = 0\n",
    "    loss_list = []\n",
    "    \n",
    "    for images, labels in eval_loader:\n",
    "        images = images.to(device)\n",
    "        labels = labels.to(device)\n",
    "        \n",
    "        # Forward pass only to get logits/output\n",
    "        outputs = model(images)\n",
    "                 \n",
    "        loss = criterion(outputs, labels)\n",
    "        loss_list.append(loss.item())\n",
    "            \n",
    "        # Get predictions from the maximum value\n",
    "        preds = torch.argmax(outputs, dim=1)\n",
    "        correct += len( torch.where(preds==labels)[0] )\n",
    "        total += len(labels)\n",
    "                 \n",
    "    # Total correct predictions and loss\n",
    "    accuracy = correct / total * 100\n",
    "    loss = np.mean(loss_list)\n",
    "    \n",
    "    return accuracy, loss\n",
    "\n",
    "\n",
    "def train_model(model, optimizer, scheduler, criterion, train_loader, valid_loader, num_epochs):\n",
    "    \"\"\" Training a model for a given number of epochs\"\"\"\n",
    "    \n",
    "    train_loss = []\n",
    "    val_loss =  []\n",
    "    loss_iters = []\n",
    "    valid_acc = []\n",
    "    \n",
    "    for epoch in range(num_epochs):\n",
    "           \n",
    "        # validation epoch\n",
    "        model.eval()  # important for dropout and batch norms\n",
    "        accuracy, loss = eval_model(\n",
    "                    model=model, eval_loader=valid_loader,\n",
    "                    criterion=criterion, device=device\n",
    "            )\n",
    "        valid_acc.append(accuracy)\n",
    "        val_loss.append(loss)\n",
    "        \n",
    "        # training epoch\n",
    "        model.train()  # important for dropout and batch norms\n",
    "        mean_loss, cur_loss_iters = train_epoch(\n",
    "                model=model, train_loader=train_loader, optimizer=optimizer,\n",
    "                criterion=criterion, epoch=epoch, device=device\n",
    "            )\n",
    "        scheduler.step()\n",
    "        train_loss.append(mean_loss)\n",
    "        loss_iters = loss_iters + cur_loss_iters\n",
    "        \n",
    "        print(f\"Epoch {epoch+1}/{num_epochs}\")\n",
    "        print(f\"    Train loss: {round(mean_loss, 5)}\")\n",
    "        print(f\"    Valid loss: {round(loss, 5)}\")\n",
    "        print(f\"    Accuracy: {accuracy}%\")\n",
    "        print(\"\\n\")\n",
    "        save_model(\n",
    "                model=model,\n",
    "                optimizer=optimizer,\n",
    "                epoch=epoch,\n",
    "                stats={\n",
    "                    \"train_loss\": train_loss,\n",
    "                    \"val_loss\": val_loss,\n",
    "                    \"loss_iters\": loss_iters,\n",
    "                    \"valid_acc\": valid_acc,\n",
    "                }\n",
    "            )\n",
    "    \n",
    "    print(f\"Training completed\")\n",
    "    return train_loss, val_loss, loss_iters, valid_acc\n",
    "\n",
    "\n",
    "def smooth(f, K=5):\n",
    "    \"\"\" Smoothing a function using a low-pass filter (mean) of size K \"\"\"\n",
    "    kernel = np.ones(K) / K\n",
    "    f = np.concatenate([f[:int(K//2)], f, f[int(-K//2):]])  # to account for boundaries\n",
    "    smooth_f = np.convolve(f, kernel, mode=\"same\")\n",
    "    smooth_f = smooth_f[K//2: -K//2]  # removing boundary-fixes\n",
    "    return smooth_f\n",
    "\n",
    "def count_model_params(model):\n",
    "    \"\"\" Counting the number of learnable parameters in a nn.Module \"\"\"\n",
    "    num_params = sum(p.numel() for p in model.parameters() if p.requires_grad)\n",
    "    return num_params\n",
    "\n",
    "\n",
    "def save_model(model, optimizer, epoch, stats):\n",
    "    \"\"\" Saving model checkpoint \"\"\"\n",
    "    \n",
    "    if(not os.path.exists(\"models\")):\n",
    "        os.makedirs(\"models\")\n",
    "    savepath = f\"models/checkpoint_epoch_{epoch}.pth\"\n",
    "\n",
    "    torch.save({\n",
    "        'epoch': epoch,\n",
    "        'model_state_dict': model.state_dict(),\n",
    "        'optimizer_state_dict': optimizer.state_dict(),\n",
    "        'stats': stats\n",
    "    }, savepath)\n",
    "    return\n",
    "\n",
    "\n",
    "def load_model(model, optimizer, savepath):\n",
    "    \"\"\" Loading pretrained checkpoint \"\"\"\n",
    "    \n",
    "    checkpoint = torch.load(savepath)\n",
    "    model.load_state_dict(checkpoint['model_state_dict'])\n",
    "    optimizer.load_state_dict(checkpoint['optimizer_state_dict'])\n",
    "    epoch = checkpoint[\"epoch\"]\n",
    "    stats = checkpoint[\"stats\"]\n",
    "    \n",
    "    return model, optimizer, epoch, stats"
   ]
  },
  {
   "cell_type": "markdown",
   "metadata": {},
   "source": [
    "## Training"
   ]
  },
  {
   "cell_type": "code",
   "execution_count": 14,
   "metadata": {},
   "outputs": [],
   "source": [
    "device = torch.device(\"cuda\" if torch.cuda.is_available() else \"cpu\")"
   ]
  },
  {
   "cell_type": "code",
   "execution_count": 15,
   "metadata": {},
   "outputs": [
    {
     "data": {
      "text/plain": [
       "486788"
      ]
     },
     "execution_count": 15,
     "metadata": {},
     "output_type": "execute_result"
    }
   ],
   "source": [
    "model = SequentialClassifier(emb_dim=128, hidden_dim=128, num_layers=2, mode=\"zeros\")\n",
    "# model = SequentialClassifierWithCells(emb_dim=128, hidden_dim=128, num_layers=2, mode=\"zeros\")\n",
    "count_model_params(model)"
   ]
  },
  {
   "cell_type": "code",
   "execution_count": 16,
   "metadata": {},
   "outputs": [
    {
     "name": "stdout",
     "output_type": "stream",
     "text": [
      "Sequential(\n",
      "  (0): Conv2d(1, 64, kernel_size=(3, 3), stride=(1, 1), padding=(1, 1))\n",
      "  (1): ReLU()\n",
      "  (2): MaxPool2d(kernel_size=2, stride=2, padding=0, dilation=1, ceil_mode=False)\n",
      "  (3): Conv2d(64, 128, kernel_size=(3, 3), stride=(1, 1), padding=(1, 1))\n",
      "  (4): ReLU()\n",
      "  (5): MaxPool2d(kernel_size=2, stride=2, padding=0, dilation=1, ceil_mode=False)\n",
      "  (6): Conv2d(128, 128, kernel_size=(3, 3), stride=(1, 1), padding=(1, 1))\n",
      "  (7): AdaptiveAvgPool2d(output_size=(1, 1))\n",
      ")\n"
     ]
    },
    {
     "data": {
      "text/plain": [
       "222080"
      ]
     },
     "execution_count": 16,
     "metadata": {},
     "output_type": "execute_result"
    }
   ],
   "source": [
    "print(model.encoder)\n",
    "count_model_params(model.encoder)"
   ]
  },
  {
   "cell_type": "code",
   "execution_count": null,
   "metadata": {},
   "outputs": [],
   "source": [
    "# 3*3*1*64 + 64 + 64 * 128 * 3 * 3 + 128 + 128 * 128 * 3 * 3 + 128"
   ]
  },
  {
   "cell_type": "code",
   "execution_count": 17,
   "metadata": {},
   "outputs": [
    {
     "name": "stdout",
     "output_type": "stream",
     "text": [
      "LSTM(128, 128, num_layers=2, batch_first=True)\n"
     ]
    },
    {
     "data": {
      "text/plain": [
       "264192"
      ]
     },
     "execution_count": 17,
     "metadata": {},
     "output_type": "execute_result"
    }
   ],
   "source": [
    "print(model.lstm)\n",
    "count_model_params(model.lstm)"
   ]
  },
  {
   "cell_type": "code",
   "execution_count": null,
   "metadata": {},
   "outputs": [],
   "source": [
    "# 4 * (2 * (128 * 128 + 128)) * 2"
   ]
  },
  {
   "cell_type": "code",
   "execution_count": 18,
   "metadata": {},
   "outputs": [
    {
     "name": "stdout",
     "output_type": "stream",
     "text": [
      "Linear(in_features=128, out_features=4, bias=True)\n"
     ]
    },
    {
     "data": {
      "text/plain": [
       "516"
      ]
     },
     "execution_count": 18,
     "metadata": {},
     "output_type": "execute_result"
    }
   ],
   "source": [
    "print(model.classifier)\n",
    "count_model_params(model.classifier)"
   ]
  },
  {
   "cell_type": "code",
   "execution_count": null,
   "metadata": {},
   "outputs": [],
   "source": [
    "128 * 4 + 4"
   ]
  },
  {
   "cell_type": "code",
   "execution_count": 19,
   "metadata": {},
   "outputs": [],
   "source": [
    "model = model.to(device)"
   ]
  },
  {
   "cell_type": "code",
   "execution_count": 20,
   "metadata": {},
   "outputs": [],
   "source": [
    "# classification loss function\n",
    "criterion = nn.CrossEntropyLoss()\n",
    "\n",
    "# Observe that all parameters are being optimized\n",
    "optimizer = torch.optim.Adam(model.parameters(), lr=3e-4)\n",
    "\n",
    "# Decay LR by a factor of 0.1 every 5 epochs\n",
    "scheduler = torch.optim.lr_scheduler.StepLR(optimizer, step_size=5, gamma=0.2)"
   ]
  },
  {
   "cell_type": "code",
   "execution_count": 21,
   "metadata": {},
   "outputs": [
    {
     "name": "stderr",
     "output_type": "stream",
     "text": [
      "Epoch 1 Iter 235: loss 0.88627. : 100%|██████████████████████████████████████████████████████████████████████████████████████████████████████████████████████████████████████████████████████████████████████████████████████████████████████| 235/235 [00:53<00:00,  4.38it/s]\n"
     ]
    },
    {
     "name": "stdout",
     "output_type": "stream",
     "text": [
      "Epoch 1/10\n",
      "    Train loss: 1.27594\n",
      "    Valid loss: 1.38725\n",
      "    Accuracy: 25.19%\n",
      "\n",
      "\n"
     ]
    },
    {
     "name": "stderr",
     "output_type": "stream",
     "text": [
      "Epoch 2 Iter 112: loss 0.52509. :  48%|██████████████████████████████████████████████████████████████████████████████████████████████▎                                                                                                       | 112/235 [00:25<00:28,  4.33it/s]\n"
     ]
    },
    {
     "ename": "KeyboardInterrupt",
     "evalue": "",
     "output_type": "error",
     "traceback": [
      "\u001b[0;31m---------------------------------------------------------------------------\u001b[0m",
      "\u001b[0;31mKeyboardInterrupt\u001b[0m                         Traceback (most recent call last)",
      "Cell \u001b[0;32mIn[21], line 1\u001b[0m\n\u001b[0;32m----> 1\u001b[0m train_loss, val_loss, loss_iters, valid_acc \u001b[38;5;241m=\u001b[39m \u001b[43mtrain_model\u001b[49m\u001b[43m(\u001b[49m\n\u001b[1;32m      2\u001b[0m \u001b[43m        \u001b[49m\u001b[43mmodel\u001b[49m\u001b[38;5;241;43m=\u001b[39;49m\u001b[43mmodel\u001b[49m\u001b[43m,\u001b[49m\u001b[43m \u001b[49m\u001b[43moptimizer\u001b[49m\u001b[38;5;241;43m=\u001b[39;49m\u001b[43moptimizer\u001b[49m\u001b[43m,\u001b[49m\u001b[43m \u001b[49m\u001b[43mscheduler\u001b[49m\u001b[38;5;241;43m=\u001b[39;49m\u001b[43mscheduler\u001b[49m\u001b[43m,\u001b[49m\u001b[43m \u001b[49m\u001b[43mcriterion\u001b[49m\u001b[38;5;241;43m=\u001b[39;49m\u001b[43mcriterion\u001b[49m\u001b[43m,\u001b[49m\n\u001b[1;32m      3\u001b[0m \u001b[43m        \u001b[49m\u001b[43mtrain_loader\u001b[49m\u001b[38;5;241;43m=\u001b[39;49m\u001b[43mtrain_loader\u001b[49m\u001b[43m,\u001b[49m\u001b[43m \u001b[49m\u001b[43mvalid_loader\u001b[49m\u001b[38;5;241;43m=\u001b[39;49m\u001b[43mtest_loader\u001b[49m\u001b[43m,\u001b[49m\u001b[43m \u001b[49m\u001b[43mnum_epochs\u001b[49m\u001b[38;5;241;43m=\u001b[39;49m\u001b[38;5;241;43m10\u001b[39;49m\n\u001b[1;32m      4\u001b[0m \u001b[43m    \u001b[49m\u001b[43m)\u001b[49m\n",
      "Cell \u001b[0;32mIn[13], line 82\u001b[0m, in \u001b[0;36mtrain_model\u001b[0;34m(model, optimizer, scheduler, criterion, train_loader, valid_loader, num_epochs)\u001b[0m\n\u001b[1;32m     80\u001b[0m \u001b[38;5;66;03m# training epoch\u001b[39;00m\n\u001b[1;32m     81\u001b[0m model\u001b[38;5;241m.\u001b[39mtrain()  \u001b[38;5;66;03m# important for dropout and batch norms\u001b[39;00m\n\u001b[0;32m---> 82\u001b[0m mean_loss, cur_loss_iters \u001b[38;5;241m=\u001b[39m \u001b[43mtrain_epoch\u001b[49m\u001b[43m(\u001b[49m\n\u001b[1;32m     83\u001b[0m \u001b[43m        \u001b[49m\u001b[43mmodel\u001b[49m\u001b[38;5;241;43m=\u001b[39;49m\u001b[43mmodel\u001b[49m\u001b[43m,\u001b[49m\u001b[43m \u001b[49m\u001b[43mtrain_loader\u001b[49m\u001b[38;5;241;43m=\u001b[39;49m\u001b[43mtrain_loader\u001b[49m\u001b[43m,\u001b[49m\u001b[43m \u001b[49m\u001b[43moptimizer\u001b[49m\u001b[38;5;241;43m=\u001b[39;49m\u001b[43moptimizer\u001b[49m\u001b[43m,\u001b[49m\n\u001b[1;32m     84\u001b[0m \u001b[43m        \u001b[49m\u001b[43mcriterion\u001b[49m\u001b[38;5;241;43m=\u001b[39;49m\u001b[43mcriterion\u001b[49m\u001b[43m,\u001b[49m\u001b[43m \u001b[49m\u001b[43mepoch\u001b[49m\u001b[38;5;241;43m=\u001b[39;49m\u001b[43mepoch\u001b[49m\u001b[43m,\u001b[49m\u001b[43m \u001b[49m\u001b[43mdevice\u001b[49m\u001b[38;5;241;43m=\u001b[39;49m\u001b[43mdevice\u001b[49m\n\u001b[1;32m     85\u001b[0m \u001b[43m    \u001b[49m\u001b[43m)\u001b[49m\n\u001b[1;32m     86\u001b[0m scheduler\u001b[38;5;241m.\u001b[39mstep()\n\u001b[1;32m     87\u001b[0m train_loss\u001b[38;5;241m.\u001b[39mappend(mean_loss)\n",
      "Cell \u001b[0;32mIn[13], line 18\u001b[0m, in \u001b[0;36mtrain_epoch\u001b[0;34m(model, train_loader, optimizer, criterion, epoch, device)\u001b[0m\n\u001b[1;32m     16\u001b[0m \u001b[38;5;66;03m# Calculate Loss: softmax --> cross entropy loss\u001b[39;00m\n\u001b[1;32m     17\u001b[0m loss \u001b[38;5;241m=\u001b[39m criterion(outputs, labels)\n\u001b[0;32m---> 18\u001b[0m loss_list\u001b[38;5;241m.\u001b[39mappend(\u001b[43mloss\u001b[49m\u001b[38;5;241;43m.\u001b[39;49m\u001b[43mitem\u001b[49m\u001b[43m(\u001b[49m\u001b[43m)\u001b[49m)\n\u001b[1;32m     20\u001b[0m \u001b[38;5;66;03m# Getting gradients w.r.t. parameters\u001b[39;00m\n\u001b[1;32m     21\u001b[0m loss\u001b[38;5;241m.\u001b[39mbackward()\n",
      "\u001b[0;31mKeyboardInterrupt\u001b[0m: "
     ]
    }
   ],
   "source": [
    "train_loss, val_loss, loss_iters, valid_acc = train_model(\n",
    "        model=model, optimizer=optimizer, scheduler=scheduler, criterion=criterion,\n",
    "        train_loader=train_loader, valid_loader=test_loader, num_epochs=10\n",
    "    )"
   ]
  },
  {
   "cell_type": "code",
   "execution_count": null,
   "metadata": {},
   "outputs": [],
   "source": [
    "plt.style.use('seaborn')\n",
    "fig, ax = plt.subplots(1,3)\n",
    "fig.set_size_inches(24,5)\n",
    "\n",
    "smooth_loss = smooth(loss_iters, 31)\n",
    "ax[0].plot(loss_iters, c=\"blue\", label=\"Loss\", linewidth=3, alpha=0.5)\n",
    "ax[0].plot(smooth_loss, c=\"red\", label=\"Smoothed Loss\", linewidth=3, alpha=1)\n",
    "ax[0].legend(loc=\"best\")\n",
    "ax[0].set_xlabel(\"Iteration\")\n",
    "ax[0].set_ylabel(\"CE Loss\")\n",
    "ax[0].set_title(\"Training Progress\")\n",
    "\n",
    "epochs = np.arange(len(train_loss)) + 1\n",
    "ax[1].plot(epochs[1:], train_loss[1:], c=\"red\", label=\"Train Loss\", linewidth=3)\n",
    "ax[1].plot(epochs[1:], val_loss[1:], c=\"blue\", label=\"Valid Loss\", linewidth=3)\n",
    "ax[1].legend(loc=\"best\")\n",
    "ax[1].set_xlabel(\"Epochs\")\n",
    "ax[1].set_ylabel(\"CE Loss\")\n",
    "ax[1].set_title(\"Loss Curves\")\n",
    "\n",
    "epochs = np.arange(len(val_loss)) + 1\n",
    "ax[2].plot(epochs[1:], valid_acc[1:], c=\"red\", label=\"Valid accuracy\", linewidth=3)\n",
    "ax[2].legend(loc=\"best\")\n",
    "ax[2].set_xlabel(\"Epochs\")\n",
    "ax[2].set_ylabel(\"Accuracy (%)\")\n",
    "ax[2].set_title(f\"Valdiation Accuracy (max={round(np.max(valid_acc),2)}% @ epoch {np.argmax(valid_acc)+1})\")\n",
    "\n",
    "plt.show()"
   ]
  },
  {
   "cell_type": "markdown",
   "metadata": {},
   "source": [
    "## Does it work?"
   ]
  },
  {
   "cell_type": "code",
   "execution_count": 25,
   "metadata": {},
   "outputs": [],
   "source": [
    "model = SequentialClassifierWithCells(emb_dim=128, hidden_dim=128, num_layers=2, mode=\"zeros\")\n",
    "# model = SequentialClassifier(emb_dim=128, hidden_dim=128, num_layers=2, mode=\"zeros\")\n",
    "model, optimizer, epoch, stats = load_model(\n",
    "        model=model,\n",
    "        optimizer=optimizer,\n",
    "        savepath=os.path.join(os.getcwd(), \"_back_models\", \"Cells\", \"models\", \"checkpoint_epoch_9.pth\")\n",
    "        # savepath=os.path.join(os.getcwd(), \"_back_models\", \"LSTM\", \"models\", \"checkpoint_epoch_9.pth\")\n",
    "    )\n",
    "model = model.to(device)"
   ]
  },
  {
   "cell_type": "code",
   "execution_count": 26,
   "metadata": {},
   "outputs": [
    {
     "data": {
      "text/plain": [
       "dict_keys(['train_loss', 'val_loss', 'loss_iters', 'valid_acc'])"
      ]
     },
     "execution_count": 26,
     "metadata": {},
     "output_type": "execute_result"
    }
   ],
   "source": [
    "stats.keys()"
   ]
  },
  {
   "cell_type": "code",
   "execution_count": 27,
   "metadata": {},
   "outputs": [
    {
     "data": {
      "image/png": "[encoded data removed]",
      "text/plain": [
       "<Figure size 2400x500 with 3 Axes>"
      ]
     },
     "metadata": {},
     "output_type": "display_data"
    }
   ],
   "source": [
    "plt.style.use('seaborn')\n",
    "fig, ax = plt.subplots(1,3)\n",
    "fig.set_size_inches(24,5)\n",
    "\n",
    "loss_iters = stats.get(\"loss_iters\")\n",
    "train_loss = stats.get(\"train_loss\")\n",
    "val_loss = stats.get(\"val_loss\")\n",
    "valid_acc = stats.get(\"valid_acc\")\n",
    "\n",
    "smooth_loss = smooth(loss_iters, 31)\n",
    "ax[0].plot(loss_iters, c=\"blue\", label=\"Loss\", linewidth=3, alpha=0.5)\n",
    "ax[0].plot(smooth_loss, c=\"red\", label=\"Smoothed Loss\", linewidth=3, alpha=1)\n",
    "ax[0].legend(loc=\"best\")\n",
    "ax[0].set_xlabel(\"Iteration\")\n",
    "ax[0].set_ylabel(\"CE Loss\")\n",
    "ax[0].set_title(\"Training Progress\")\n",
    "\n",
    "epochs = np.arange(len(train_loss)) + 1\n",
    "ax[1].plot(epochs[1:], train_loss[1:], c=\"red\", label=\"Train Loss\", linewidth=3)\n",
    "ax[1].plot(epochs[1:], val_loss[1:], c=\"blue\", label=\"Valid Loss\", linewidth=3)\n",
    "ax[1].legend(loc=\"best\")\n",
    "ax[1].set_xlabel(\"Epochs\")\n",
    "ax[1].set_ylabel(\"CE Loss\")\n",
    "ax[1].set_title(\"Loss Curves\")\n",
    "\n",
    "epochs = np.arange(len(val_loss)) + 1\n",
    "ax[2].plot(epochs[1:], valid_acc[1:], c=\"red\", label=\"Valid accuracy\", linewidth=3)\n",
    "ax[2].legend(loc=\"best\")\n",
    "ax[2].set_xlabel(\"Epochs\")\n",
    "ax[2].set_ylabel(\"Accuracy (%)\")\n",
    "ax[2].set_title(f\"Valdiation Accuracy (max={round(np.max(valid_acc),2)}% @ epoch {np.argmax(valid_acc)+1})\")\n",
    "\n",
    "plt.show()"
   ]
  },
  {
   "cell_type": "code",
   "execution_count": 29,
   "metadata": {},
   "outputs": [
    {
     "data": {
      "image/png": "[encoded data removed]",
      "text/plain": [
       "<Figure size 600x200 with 4 Axes>"
      ]
     },
     "metadata": {},
     "output_type": "display_data"
    },
    {
     "data": {
      "image/png": "[encoded data removed]",
      "text/plain": [
       "<Figure size 600x200 with 4 Axes>"
      ]
     },
     "metadata": {},
     "output_type": "display_data"
    },
    {
     "data": {
      "image/png": "[encoded data removed]",
      "text/plain": [
       "<Figure size 600x200 with 4 Axes>"
      ]
     },
     "metadata": {},
     "output_type": "display_data"
    },
    {
     "data": {
      "image/png": "[encoded data removed]",
      "text/plain": [
       "<Figure size 600x200 with 4 Axes>"
      ]
     },
     "metadata": {},
     "output_type": "display_data"
    }
   ],
   "source": [
    "with torch.no_grad():\n",
    "    for i in range(4):\n",
    "        frames, label = test_dataset[i]\n",
    "        frames = frames.to(device)\n",
    "        pred = model(frames.unsqueeze(0))\n",
    "        pred_label = test_dataset.LABELS[pred.argmax().item()]\n",
    "    \n",
    "        visualize_sequence(frames, n_cols=4, cmap=\"gray\", suptitle=f\"GT={test_dataset.LABELS[label]}, Pred={pred_label}\")"
   ]
  },
  {
   "cell_type": "markdown",
   "metadata": {},
   "source": [
    "# Assignment 3\n",
    "\n",
    "#### **Task 1**\n",
    " - Implement a LSTM (LSTM() and/or LSTMCell()) from scratch\n",
    " - Implement a Convolutional LSTM (ConvLSTM() and/or ConvLSTMCell()) from scratch\n",
    "\n",
    "#### **Task 2**\n",
    " 1. Perform \"Action Recognition\" on the KTH-Actions dataset:\n",
    "    - https://www.csc.kth.se/cvap/actions/\n",
    "    - https://github.com/tejaskhot/KTH-Dataset\n",
    "    - Already downloaded in `/home/nfs/inf6/data/datasets/kth_actions`\n",
    "    - Use spatial dimensionality of frames of 64x64\n",
    "    - Split videos into subsequences of e.g. 10 frames. Treat each of these subsequences as independent.\n",
    "    - Feel free to use augmentations (temporal and/or spatial)\n",
    "    \n",
    "\n",
    "<br>\n",
    "\n",
    "2. Implement a model with the following structure:\n",
    "    - Convolutional encoder (probably more powerful than the one from above)\n",
    "    - Recurrent module\n",
    "    - Classifier (probably Conv + AvgPooling/Flattening + Linear)\n",
    "\n",
    "\n",
    "<br>\n",
    "\n",
    "3. Train, evaluate, and compare the model with the recurrent modules listed below.<br>\n",
    "   Compare the models in terms of accuracy, training/inference time, and number of learnable parameters.<br>\n",
    "   **Log the experiments on Tensorboard/WandB**. <br>\n",
    "   RNNs to evaluate:\n",
    "    - PyTorch LSTM model (using nn.LSTMCell)\n",
    "    - PyTorch GRU model (using nn.GRUCell)\n",
    "    - Your own LSTM\n",
    "    - Your own ConvLSTM\n",
    "    - **Note**: Different recurrent modules (e.g. LSTM vs ConvLSTM) might require slight changes in the encoder and classifier\n",
    "    \n",
    "\n",
    "#### **Extra Point**\n",
    "  - Implement a 3D-CNN (e.g. 3D-ResNet or R(2+1)d-Net) for action classification on the KTH-Actions dataset\n",
    "  - Compare it with the RNN-based models"
   ]
  },
  {
   "cell_type": "markdown",
   "metadata": {},
   "source": [
    "#### **Due Date**: Monday 19th May at 23:59\n",
    "#### Submit it by mail using the subject: **CudaLab: Assignment3 + Group Name**\n",
    "####  Send me the following: Jupyter Notebook after running, Jupyter export as html, any other .py files or images used."
   ]
  },
  {
   "cell_type": "markdown",
   "metadata": {},
   "source": [
    "### **Next Session: Wednesday 21st May**"
   ]
  },
  {
   "cell_type": "markdown",
   "metadata": {},
   "source": [
    "# References\n",
    " - https://www.deeplearningbook.org/\n",
    " - https://towardsdatascience.com/all-you-want-to-know-about-deep-learning-8d68dcffc258\n",
    " - https://colah.github.io/posts/2015-08-Understanding-LSTMs/"
   ]
  },
  {
   "cell_type": "markdown",
   "metadata": {},
   "source": [
    "<div class=alert style=\"background-color:#F5F5F5; border-color:#C8C8C8\">\n",
    "    <b>Angel Villar-Corrales</b><br>\n",
    "    <ul>\n",
    "       <li> <b>Email</b>: villar@ais.uni-bonn.de\n",
    "       <li> <b>Website</b>: angelvillarcorrales.com\n",
    "    </ul>\n",
    "</div>  "
   ]
  }
 ],
 "metadata": {
  "kernelspec": {
   "display_name": "Python 3 (ipykernel)",
   "language": "python",
   "name": "python3"
  },
  "language_info": {
   "codemirror_mode": {
    "name": "ipython",
    "version": 3
   },
   "file_extension": ".py",
   "mimetype": "text/x-python",
   "name": "python",
   "nbconvert_exporter": "python",
   "pygments_lexer": "ipython3",
   "version": "3.9.12"
  }
 },
 "nbformat": 4,
 "nbformat_minor": 4
}
