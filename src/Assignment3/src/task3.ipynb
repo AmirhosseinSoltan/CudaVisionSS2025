{
 "cells": [
  {
   "cell_type": "markdown",
   "metadata": {},
   "source": [
    "#### **Extra Point**\n",
    "  - Implement a 3D-CNN (e.g. 3D-ResNet or R(2+1)d-Net) for action classification on the KTH-Actions dataset\n",
    "  - Compare it with the RNN-based models"
   ]
  }
 ],
 "metadata": {
  "language_info": {
   "name": "python"
  }
 },
 "nbformat": 4,
 "nbformat_minor": 2
}
