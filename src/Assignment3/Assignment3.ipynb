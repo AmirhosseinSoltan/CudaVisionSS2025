{
 "cells": [
  {
   "cell_type": "markdown",
   "metadata": {},
   "source": [
    "### Team name: \n",
    "\n",
    "<div style=\"text-align: center;\">\n",
    "  <img src=\"imgs/ChatGPT Image May 1, 2025, 06_23_42 PM.png\" width=\"40%\">\n",
    "</div>\n",
    "\n",
    "Image created by **Dall-E 3 open-AI** with Prompt:\n",
    "\n",
    "A logo for a deep learning university team called \"Persian CUDA\", featuring a fierce stylized Persian cat at the top, three Persian male students in futuristic uniforms below, and the text \"Persian CUDA - Deep Learning Team\" in bold lettering. The design should have a shield shape, integrate the NVIDIA logo subtly, and use a dark teal and beige color scheme. The style should be modern, sleek, and slightly tech-inspired, with clean lines and geometric balance\n",
    "### Members:\n",
    "1. Aidin Masroor\n",
    "2. Moein Taherkhani\n",
    "3. Amirhossein Soltani\n",
    "\n",
    "*Date : 18.05.2025*"
   ]
  }
 ],
 "metadata": {
  "language_info": {
   "name": "python"
  }
 },
 "nbformat": 4,
 "nbformat_minor": 2
}
